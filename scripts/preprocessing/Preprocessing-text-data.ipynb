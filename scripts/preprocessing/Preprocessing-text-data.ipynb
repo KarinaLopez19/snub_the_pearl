{
 "cells": [
  {
   "cell_type": "code",
   "execution_count": 25,
   "metadata": {},
   "outputs": [],
   "source": [
    "#import sys\n",
    "#print(sys.executable)"
   ]
  },
  {
   "cell_type": "code",
   "execution_count": 26,
   "metadata": {},
   "outputs": [],
   "source": [
    "#/Users/mei/Documents/project"
   ]
  },
  {
   "cell_type": "code",
   "execution_count": 27,
   "metadata": {
    "scrolled": false
   },
   "outputs": [
    {
     "name": "stderr",
     "output_type": "stream",
     "text": [
      "[nltk_data] Downloading package punkt to /Users/mei/nltk_data...\n",
      "[nltk_data]   Package punkt is already up-to-date!\n",
      "<ipython-input-27-6e327f50ed7d>:31: FutureWarning: Passing a negative integer is deprecated in version 1.0 and will not be supported in future version. Instead, use None to not limit the column width.\n",
      "  pd.set_option('display.max_colwidth', -1)\n"
     ]
    }
   ],
   "source": [
    "import spacy\n",
    "import pandas as pd\n",
    "import glob\n",
    "import os\n",
    "from bs4 import BeautifulSoup\n",
    "\n",
    "import seaborn as sns\n",
    "sns.set_style('darkgrid')\n",
    "\n",
    "import nltk\n",
    "from nltk.corpus import stopwords\n",
    "from nltk.stem.wordnet import WordNetLemmatizer\n",
    "#from nltk.corpus import twitter_samples, stopwords\n",
    "from nltk.tag import pos_tag\n",
    "from nltk.tokenize import word_tokenize\n",
    "from nltk import FreqDist, classify, NaiveBayesClassifier\n",
    "nltk.download('punkt')\n",
    "\n",
    "from wordcloud import WordCloud\n",
    "\n",
    "\n",
    "import re, string, random\n",
    "\n",
    "%matplotlib inline\n",
    "import matplotlib.pyplot as plt\n",
    "import matplotlib\n",
    "\n",
    "#setting pandas display options\n",
    "pd.set_option('display.max_columns', None)  # or 1000\n",
    "pd.set_option('display.max_rows', None)  # or 1000\n",
    "pd.set_option('display.max_colwidth', -1) "
   ]
  },
  {
   "cell_type": "markdown",
   "metadata": {},
   "source": [
    "## Functions + Helper variables"
   ]
  },
  {
   "cell_type": "code",
   "execution_count": 28,
   "metadata": {},
   "outputs": [],
   "source": [
    "CONTRACTION_MAP = {\n",
    "\"ain't\": \"is not\",\n",
    "\"aren't\": \"are not\",\n",
    "\"can't\": \"cannot\",\n",
    "\"can't've\": \"cannot have\",\n",
    "\"'cause\": \"because\",\n",
    "\"could've\": \"could have\",\n",
    "\"couldn't\": \"could not\",\n",
    "\"couldn't've\": \"could not have\",\n",
    "\"didn't\": \"did not\",\n",
    "\"doesn't\": \"does not\",\n",
    "\"don't\": \"do not\",\n",
    "\"hadn't\": \"had not\",\n",
    "\"hadn't've\": \"had not have\",\n",
    "\"hasn't\": \"has not\",\n",
    "\"haven't\": \"have not\",\n",
    "\"he'd\": \"he would\",\n",
    "\"he'd've\": \"he would have\",\n",
    "\"he'll\": \"he will\",\n",
    "\"he'll've\": \"he he will have\",\n",
    "\"he's\": \"he is\",\n",
    "\"how'd\": \"how did\",\n",
    "\"how'd'y\": \"how do you\",\n",
    "\"how'll\": \"how will\",\n",
    "\"how's\": \"how is\",\n",
    "\"I'd\": \"I would\",\n",
    "\"I'd've\": \"I would have\",\n",
    "\"I'll\": \"I will\",\n",
    "\"I'll've\": \"I will have\",\n",
    "\"I'm\": \"I am\",\n",
    "\"I've\": \"I have\",\n",
    "\"i'd\": \"i would\",\n",
    "\"i'd've\": \"i would have\",\n",
    "\"i'll\": \"i will\",\n",
    "\"i'll've\": \"i will have\",\n",
    "\"i'm\": \"i am\",\n",
    "\"i've\": \"i have\",\n",
    "\"isn't\": \"is not\",\n",
    "\"it'd\": \"it would\",\n",
    "\"it'd've\": \"it would have\",\n",
    "\"it'll\": \"it will\",\n",
    "\"it'll've\": \"it will have\",\n",
    "\"it's\": \"it is\",\n",
    "\"let's\": \"let us\",\n",
    "\"ma'am\": \"madam\",\n",
    "\"mayn't\": \"may not\",\n",
    "\"might've\": \"might have\",\n",
    "\"mightn't\": \"might not\",\n",
    "\"mightn't've\": \"might not have\",\n",
    "\"must've\": \"must have\",\n",
    "\"mustn't\": \"must not\",\n",
    "\"mustn't've\": \"must not have\",\n",
    "\"needn't\": \"need not\",\n",
    "\"needn't've\": \"need not have\",\n",
    "\"o'clock\": \"of the clock\",\n",
    "\"oughtn't\": \"ought not\",\n",
    "\"oughtn't've\": \"ought not have\",\n",
    "\"shan't\": \"shall not\",\n",
    "\"sha'n't\": \"shall not\",\n",
    "\"shan't've\": \"shall not have\",\n",
    "\"she'd\": \"she would\",\n",
    "\"she'd've\": \"she would have\",\n",
    "\"she'll\": \"she will\",\n",
    "\"she'll've\": \"she will have\",\n",
    "\"she's\": \"she is\",\n",
    "\"should've\": \"should have\",\n",
    "\"shouldn't\": \"should not\",\n",
    "\"shouldn't've\": \"should not have\",\n",
    "\"so've\": \"so have\",\n",
    "\"so's\": \"so as\",\n",
    "\"that'd\": \"that would\",\n",
    "\"that'd've\": \"that would have\",\n",
    "\"that's\": \"that is\",\n",
    "\"there'd\": \"there would\",\n",
    "\"there'd've\": \"there would have\",\n",
    "\"there's\": \"there is\",\n",
    "\"they'd\": \"they would\",\n",
    "\"they'd've\": \"they would have\",\n",
    "\"they'll\": \"they will\",\n",
    "\"they'll've\": \"they will have\",\n",
    "\"they're\": \"they are\",\n",
    "\"they've\": \"they have\",\n",
    "\"to've\": \"to have\",\n",
    "\"wasn't\": \"was not\",\n",
    "\"we'd\": \"we would\",\n",
    "\"we'd've\": \"we would have\",\n",
    "\"we'll\": \"we will\",\n",
    "\"we'll've\": \"we will have\",\n",
    "\"we're\": \"we are\",\n",
    "\"we've\": \"we have\",\n",
    "\"weren't\": \"were not\",\n",
    "\"what'll\": \"what will\",\n",
    "\"what'll've\": \"what will have\",\n",
    "\"what're\": \"what are\",\n",
    "\"what's\": \"what is\",\n",
    "\"what've\": \"what have\",\n",
    "\"when's\": \"when is\",\n",
    "\"when've\": \"when have\",\n",
    "\"where'd\": \"where did\",\n",
    "\"where's\": \"where is\",\n",
    "\"where've\": \"where have\",\n",
    "\"who'll\": \"who will\",\n",
    "\"who'll've\": \"who will have\",\n",
    "\"who's\": \"who is\",\n",
    "\"who've\": \"who have\",\n",
    "\"why's\": \"why is\",\n",
    "\"why've\": \"why have\",\n",
    "\"will've\": \"will have\",\n",
    "\"won't\": \"will not\",\n",
    "\"won't've\": \"will not have\",\n",
    "\"would've\": \"would have\",\n",
    "\"wouldn't\": \"would not\",\n",
    "\"wouldn't've\": \"would not have\",\n",
    "\"y'all\": \"you all\",\n",
    "\"y'all'd\": \"you all would\",\n",
    "\"y'all'd've\": \"you all would have\",\n",
    "\"y'all're\": \"you all are\",\n",
    "\"y'all've\": \"you all have\",\n",
    "\"you'd\": \"you would\",\n",
    "\"you'd've\": \"you would have\",\n",
    "\"you'll\": \"you will\",\n",
    "\"you'll've\": \"you will have\",\n",
    "\"you're\": \"you are\",\n",
    "\"you've\": \"you have\"\n",
    "}"
   ]
  },
  {
   "cell_type": "code",
   "execution_count": 29,
   "metadata": {},
   "outputs": [],
   "source": [
    "# removes keywords from your text data\n",
    "\n",
    "def map_keyword(df, kw, kw_list, col = 'title', col_name = 'title_preprocessed'):\n",
    "    \n",
    "    # filter to only replace keyword data\n",
    "    temp = df.loc[df['keyword'] == kw]\n",
    "    \n",
    "    # replace keyword in string column\n",
    "    temp[col_name] = temp[col].str.replace('|'.join(kw_list), 'keyword') \n",
    "    \n",
    "    return(temp)"
   ]
  },
  {
   "cell_type": "code",
   "execution_count": 30,
   "metadata": {},
   "outputs": [],
   "source": [
    "def expand_contractions(text, contraction_mapping=CONTRACTION_MAP):\n",
    "    \n",
    "    contractions_pattern = re.compile('({})'.format('|'.join(contraction_mapping.keys())), \n",
    "                                      flags=re.IGNORECASE|re.DOTALL)\n",
    "    def expand_match(contraction):\n",
    "        match = contraction.group(0)\n",
    "        first_char = match[0]\n",
    "        \n",
    "        expanded_contraction = contraction_mapping.get(match)\\\n",
    "                                if contraction_mapping.get(match)\\\n",
    "                                else contraction_mapping.get(match.lower())                       \n",
    "        \n",
    "        expanded_contraction = first_char + expanded_contraction[1:]\n",
    "        \n",
    "        return expanded_contraction\n",
    "        \n",
    "    expanded_text = contractions_pattern.sub(expand_match, text)\n",
    "    expanded_text = re.sub(\"'\", \"\", expanded_text)\n",
    "    \n",
    "    return expanded_text"
   ]
  },
  {
   "cell_type": "code",
   "execution_count": 31,
   "metadata": {},
   "outputs": [],
   "source": [
    "def remove_stopwords(tokens, is_lower_case = True):\n",
    "    \n",
    "    #tokens = tokenizer.tokenize(text)\n",
    "    tokens = [token.strip() for token in tokens]\n",
    "    \n",
    "    if is_lower_case:\n",
    "        filtered_tokens = [token for token in tokens if token not in stopword_list]\n",
    "    \n",
    "    else:\n",
    "        filtered_tokens = [token for token in tokens if token.lower() not in stopword_list]\n",
    "    filtered_text = ' '.join(filtered_tokens)    \n",
    "    \n",
    "    return filtered_text"
   ]
  },
  {
   "cell_type": "code",
   "execution_count": 32,
   "metadata": {},
   "outputs": [],
   "source": [
    "def strip_html_tags(text):\n",
    "    soup = BeautifulSoup(text, \"html.parser\")\n",
    "    stripped_text = soup.get_text()\n",
    "    return stripped_text"
   ]
  },
  {
   "cell_type": "code",
   "execution_count": 33,
   "metadata": {},
   "outputs": [],
   "source": [
    "# Define a function to plot word cloud\n",
    "def plot_cloud(wordcloud):\n",
    "    \n",
    "    # Set figure size\n",
    "    plt.figure(figsize = (40, 30))\n",
    "    \n",
    "    # Display image\n",
    "    plt.imshow(wordcloud) \n",
    "    \n",
    "    # No axis details\n",
    "    plt.axis(\"off\");"
   ]
  },
  {
   "cell_type": "markdown",
   "metadata": {},
   "source": [
    "## Load in files"
   ]
  },
  {
   "cell_type": "code",
   "execution_count": 75,
   "metadata": {},
   "outputs": [],
   "source": [
    "comments_df = pd.read_csv('MEGA_ffa_comments_identity.csv')"
   ]
  },
  {
   "cell_type": "code",
   "execution_count": 56,
   "metadata": {
    "scrolled": true
   },
   "outputs": [
    {
     "data": {
      "text/html": [
       "<div>\n",
       "<style scoped>\n",
       "    .dataframe tbody tr th:only-of-type {\n",
       "        vertical-align: middle;\n",
       "    }\n",
       "\n",
       "    .dataframe tbody tr th {\n",
       "        vertical-align: top;\n",
       "    }\n",
       "\n",
       "    .dataframe thead th {\n",
       "        text-align: right;\n",
       "    }\n",
       "</style>\n",
       "<table border=\"1\" class=\"dataframe\">\n",
       "  <thead>\n",
       "    <tr style=\"text-align: right;\">\n",
       "      <th></th>\n",
       "      <th>comment_id</th>\n",
       "      <th>comment_parent_id</th>\n",
       "      <th>comment_body</th>\n",
       "      <th>comment_link_id</th>\n",
       "      <th>keyword</th>\n",
       "    </tr>\n",
       "  </thead>\n",
       "  <tbody>\n",
       "    <tr>\n",
       "      <th>0</th>\n",
       "      <td>fuqh75f</td>\n",
       "      <td>t3_gzpwr7</td>\n",
       "      <td>Hello, I’m a fashion designer based in CT. Born In AL. Raised in NYC.\\n\\n[Here Is All My Social Accounts; Website; And My Most Recent Video On Me Making My Koi Fish Dress](https://linktr.ee/derells.style) \\n\\n✨ Style Is Something Each Of Us Already Has, All We Need To Do Is Find It! ✨\\n\\n🖤 We hope to see you around 🖤</td>\n",
       "      <td>t3_gzpwr7</td>\n",
       "      <td>BIPOC</td>\n",
       "    </tr>\n",
       "    <tr>\n",
       "      <th>1</th>\n",
       "      <td>fvfycp8</td>\n",
       "      <td>t3_gzpwr7</td>\n",
       "      <td>Highly recommend following [Babbarra Designs](https://www.instagram.com/babbarradesigns/). It's an Australian aboriginal women's center that produces fashion, textiles, and art and they showcase the artists and designers and the skill that goes into making the breathtaking textiles. It's also just a really joyous page with lots of images of the artists showing off their own designs or garments.</td>\n",
       "      <td>t3_gzpwr7</td>\n",
       "      <td>BIPOC</td>\n",
       "    </tr>\n",
       "    <tr>\n",
       "      <th>2</th>\n",
       "      <td>g34oia4</td>\n",
       "      <td>t3_gzpwr7</td>\n",
       "      <td>[Birr Apparel ](www.birrapparel.com)</td>\n",
       "      <td>t3_gzpwr7</td>\n",
       "      <td>BIPOC</td>\n",
       "    </tr>\n",
       "  </tbody>\n",
       "</table>\n",
       "</div>"
      ],
      "text/plain": [
       "  comment_id comment_parent_id  \\\n",
       "0  fuqh75f    t3_gzpwr7          \n",
       "1  fvfycp8    t3_gzpwr7          \n",
       "2  g34oia4    t3_gzpwr7          \n",
       "\n",
       "                                                                                                                                                                                                                                                                                                                                                                                                    comment_body  \\\n",
       "0  Hello, I’m a fashion designer based in CT. Born In AL. Raised in NYC.\\n\\n[Here Is All My Social Accounts; Website; And My Most Recent Video On Me Making My Koi Fish Dress](https://linktr.ee/derells.style) \\n\\n✨ Style Is Something Each Of Us Already Has, All We Need To Do Is Find It! ✨\\n\\n🖤 We hope to see you around 🖤                                                                                  \n",
       "1  Highly recommend following [Babbarra Designs](https://www.instagram.com/babbarradesigns/). It's an Australian aboriginal women's center that produces fashion, textiles, and art and they showcase the artists and designers and the skill that goes into making the breathtaking textiles. It's also just a really joyous page with lots of images of the artists showing off their own designs or garments.   \n",
       "2  [Birr Apparel ](www.birrapparel.com)                                                                                                                                                                                                                                                                                                                                                                            \n",
       "\n",
       "  comment_link_id keyword  \n",
       "0  t3_gzpwr7       BIPOC   \n",
       "1  t3_gzpwr7       BIPOC   \n",
       "2  t3_gzpwr7       BIPOC   "
      ]
     },
     "execution_count": 56,
     "metadata": {},
     "output_type": "execute_result"
    }
   ],
   "source": [
    "comments_df.head(n = 3)"
   ]
  },
  {
   "cell_type": "markdown",
   "metadata": {},
   "source": [
    "## Lowercasing"
   ]
  },
  {
   "cell_type": "code",
   "execution_count": 76,
   "metadata": {},
   "outputs": [],
   "source": [
    "comments_df['comment_body'] = comments_df['comment_body'].str.lower()"
   ]
  },
  {
   "cell_type": "code",
   "execution_count": 58,
   "metadata": {
    "scrolled": true
   },
   "outputs": [
    {
     "data": {
      "text/html": [
       "<div>\n",
       "<style scoped>\n",
       "    .dataframe tbody tr th:only-of-type {\n",
       "        vertical-align: middle;\n",
       "    }\n",
       "\n",
       "    .dataframe tbody tr th {\n",
       "        vertical-align: top;\n",
       "    }\n",
       "\n",
       "    .dataframe thead th {\n",
       "        text-align: right;\n",
       "    }\n",
       "</style>\n",
       "<table border=\"1\" class=\"dataframe\">\n",
       "  <thead>\n",
       "    <tr style=\"text-align: right;\">\n",
       "      <th></th>\n",
       "      <th>comment_id</th>\n",
       "      <th>comment_parent_id</th>\n",
       "      <th>comment_body</th>\n",
       "      <th>comment_link_id</th>\n",
       "      <th>keyword</th>\n",
       "    </tr>\n",
       "  </thead>\n",
       "  <tbody>\n",
       "    <tr>\n",
       "      <th>0</th>\n",
       "      <td>fuqh75f</td>\n",
       "      <td>t3_gzpwr7</td>\n",
       "      <td>hello, i’m a fashion designer based in ct. born in al. raised in nyc.\\n\\n[here is all my social accounts; website; and my most recent video on me making my koi fish dress](https://linktr.ee/derells.style) \\n\\n✨ style is something each of us already has, all we need to do is find it! ✨\\n\\n🖤 we hope to see you around 🖤</td>\n",
       "      <td>t3_gzpwr7</td>\n",
       "      <td>BIPOC</td>\n",
       "    </tr>\n",
       "    <tr>\n",
       "      <th>1</th>\n",
       "      <td>fvfycp8</td>\n",
       "      <td>t3_gzpwr7</td>\n",
       "      <td>highly recommend following [babbarra designs](https://www.instagram.com/babbarradesigns/). it's an australian aboriginal women's center that produces fashion, textiles, and art and they showcase the artists and designers and the skill that goes into making the breathtaking textiles. it's also just a really joyous page with lots of images of the artists showing off their own designs or garments.</td>\n",
       "      <td>t3_gzpwr7</td>\n",
       "      <td>BIPOC</td>\n",
       "    </tr>\n",
       "  </tbody>\n",
       "</table>\n",
       "</div>"
      ],
      "text/plain": [
       "  comment_id comment_parent_id  \\\n",
       "0  fuqh75f    t3_gzpwr7          \n",
       "1  fvfycp8    t3_gzpwr7          \n",
       "\n",
       "                                                                                                                                                                                                                                                                                                                                                                                                    comment_body  \\\n",
       "0  hello, i’m a fashion designer based in ct. born in al. raised in nyc.\\n\\n[here is all my social accounts; website; and my most recent video on me making my koi fish dress](https://linktr.ee/derells.style) \\n\\n✨ style is something each of us already has, all we need to do is find it! ✨\\n\\n🖤 we hope to see you around 🖤                                                                                  \n",
       "1  highly recommend following [babbarra designs](https://www.instagram.com/babbarradesigns/). it's an australian aboriginal women's center that produces fashion, textiles, and art and they showcase the artists and designers and the skill that goes into making the breathtaking textiles. it's also just a really joyous page with lots of images of the artists showing off their own designs or garments.   \n",
       "\n",
       "  comment_link_id keyword  \n",
       "0  t3_gzpwr7       BIPOC   \n",
       "1  t3_gzpwr7       BIPOC   "
      ]
     },
     "execution_count": 58,
     "metadata": {},
     "output_type": "execute_result"
    }
   ],
   "source": [
    "comments_df.head(n = 2)"
   ]
  },
  {
   "cell_type": "markdown",
   "metadata": {},
   "source": [
    "## Expand contractions"
   ]
  },
  {
   "cell_type": "code",
   "execution_count": 77,
   "metadata": {},
   "outputs": [],
   "source": [
    "comments_df['comment_body'] = comments_df['comment_body'].apply(str)"
   ]
  },
  {
   "cell_type": "code",
   "execution_count": 78,
   "metadata": {
    "scrolled": false
   },
   "outputs": [],
   "source": [
    "comments_df['comment_body_preprocessed'] = comments_df['comment_body'].apply(expand_contractions)"
   ]
  },
  {
   "cell_type": "code",
   "execution_count": 79,
   "metadata": {
    "scrolled": true
   },
   "outputs": [
    {
     "data": {
      "text/html": [
       "<div>\n",
       "<style scoped>\n",
       "    .dataframe tbody tr th:only-of-type {\n",
       "        vertical-align: middle;\n",
       "    }\n",
       "\n",
       "    .dataframe tbody tr th {\n",
       "        vertical-align: top;\n",
       "    }\n",
       "\n",
       "    .dataframe thead th {\n",
       "        text-align: right;\n",
       "    }\n",
       "</style>\n",
       "<table border=\"1\" class=\"dataframe\">\n",
       "  <thead>\n",
       "    <tr style=\"text-align: right;\">\n",
       "      <th></th>\n",
       "      <th>comment_id</th>\n",
       "      <th>comment_parent_id</th>\n",
       "      <th>comment_body</th>\n",
       "      <th>comment_link_id</th>\n",
       "      <th>keyword</th>\n",
       "      <th>comment_body_preprocessed</th>\n",
       "    </tr>\n",
       "  </thead>\n",
       "  <tbody>\n",
       "    <tr>\n",
       "      <th>0</th>\n",
       "      <td>fuqh75f</td>\n",
       "      <td>t3_gzpwr7</td>\n",
       "      <td>hello, i’m a fashion designer based in ct. born in al. raised in nyc.\\n\\n[here is all my social accounts; website; and my most recent video on me making my koi fish dress](https://linktr.ee/derells.style) \\n\\n✨ style is something each of us already has, all we need to do is find it! ✨\\n\\n🖤 we hope to see you around 🖤</td>\n",
       "      <td>t3_gzpwr7</td>\n",
       "      <td>BIPOC</td>\n",
       "      <td>hello, i’m a fashion designer based in ct. born in al. raised in nyc.\\n\\n[here is all my social accounts; website; and my most recent video on me making my koi fish dress](https://linktr.ee/derells.style) \\n\\n✨ style is something each of us already has, all we need to do is find it! ✨\\n\\n🖤 we hope to see you around 🖤</td>\n",
       "    </tr>\n",
       "    <tr>\n",
       "      <th>1</th>\n",
       "      <td>fvfycp8</td>\n",
       "      <td>t3_gzpwr7</td>\n",
       "      <td>highly recommend following [babbarra designs](https://www.instagram.com/babbarradesigns/). it's an australian aboriginal women's center that produces fashion, textiles, and art and they showcase the artists and designers and the skill that goes into making the breathtaking textiles. it's also just a really joyous page with lots of images of the artists showing off their own designs or garments.</td>\n",
       "      <td>t3_gzpwr7</td>\n",
       "      <td>BIPOC</td>\n",
       "      <td>highly recommend following [babbarra designs](https://www.instagram.com/babbarradesigns/). it is an australian aboriginal womens center that produces fashion, textiles, and art and they showcase the artists and designers and the skill that goes into making the breathtaking textiles. it is also just a really joyous page with lots of images of the artists showing off their own designs or garments.</td>\n",
       "    </tr>\n",
       "    <tr>\n",
       "      <th>2</th>\n",
       "      <td>g34oia4</td>\n",
       "      <td>t3_gzpwr7</td>\n",
       "      <td>[birr apparel ](www.birrapparel.com)</td>\n",
       "      <td>t3_gzpwr7</td>\n",
       "      <td>BIPOC</td>\n",
       "      <td>[birr apparel ](www.birrapparel.com)</td>\n",
       "    </tr>\n",
       "    <tr>\n",
       "      <th>3</th>\n",
       "      <td>fv27w43</td>\n",
       "      <td>t3_gzpwr7</td>\n",
       "      <td>[deleted]</td>\n",
       "      <td>t3_gzpwr7</td>\n",
       "      <td>BIPOC</td>\n",
       "      <td>[deleted]</td>\n",
       "    </tr>\n",
       "    <tr>\n",
       "      <th>4</th>\n",
       "      <td>ftp0gyl</td>\n",
       "      <td>t3_gzpwr7</td>\n",
       "      <td>[zelie for she](https://www.instagram.com/zelieforshe/) does plus sized basics. based out of la.</td>\n",
       "      <td>t3_gzpwr7</td>\n",
       "      <td>BIPOC</td>\n",
       "      <td>[zelie for she](https://www.instagram.com/zelieforshe/) does plus sized basics. based out of la.</td>\n",
       "    </tr>\n",
       "    <tr>\n",
       "      <th>5</th>\n",
       "      <td>g3lgz6a</td>\n",
       "      <td>t3_gzpwr7</td>\n",
       "      <td>if you're based somewhere in asia and really like cute summer tops that use a lot of upcycled and/or organic materials, my girlfriend started her own brand. \\n\\nwe're an asian couple based in singapore and we try to use handmade fabrics sourced ethically from india! \\n\\n[cryafty](https://www.instagram.com/cryafty/)</td>\n",
       "      <td>t3_gzpwr7</td>\n",
       "      <td>BIPOC</td>\n",
       "      <td>if you are based somewhere in asia and really like cute summer tops that use a lot of upcycled and/or organic materials, my girlfriend started her own brand. \\n\\nwe are an asian couple based in singapore and we try to use handmade fabrics sourced ethically from india! \\n\\n[cryafty](https://www.instagram.com/cryafty/)</td>\n",
       "    </tr>\n",
       "  </tbody>\n",
       "</table>\n",
       "</div>"
      ],
      "text/plain": [
       "  comment_id comment_parent_id  \\\n",
       "0  fuqh75f    t3_gzpwr7          \n",
       "1  fvfycp8    t3_gzpwr7          \n",
       "2  g34oia4    t3_gzpwr7          \n",
       "3  fv27w43    t3_gzpwr7          \n",
       "4  ftp0gyl    t3_gzpwr7          \n",
       "5  g3lgz6a    t3_gzpwr7          \n",
       "\n",
       "                                                                                                                                                                                                                                                                                                                                                                                                    comment_body  \\\n",
       "0  hello, i’m a fashion designer based in ct. born in al. raised in nyc.\\n\\n[here is all my social accounts; website; and my most recent video on me making my koi fish dress](https://linktr.ee/derells.style) \\n\\n✨ style is something each of us already has, all we need to do is find it! ✨\\n\\n🖤 we hope to see you around 🖤                                                                                  \n",
       "1  highly recommend following [babbarra designs](https://www.instagram.com/babbarradesigns/). it's an australian aboriginal women's center that produces fashion, textiles, and art and they showcase the artists and designers and the skill that goes into making the breathtaking textiles. it's also just a really joyous page with lots of images of the artists showing off their own designs or garments.   \n",
       "2  [birr apparel ](www.birrapparel.com)                                                                                                                                                                                                                                                                                                                                                                            \n",
       "3  [deleted]                                                                                                                                                                                                                                                                                                                                                                                                       \n",
       "4  [zelie for she](https://www.instagram.com/zelieforshe/) does plus sized basics. based out of la.                                                                                                                                                                                                                                                                                                                \n",
       "5  if you're based somewhere in asia and really like cute summer tops that use a lot of upcycled and/or organic materials, my girlfriend started her own brand. \\n\\nwe're an asian couple based in singapore and we try to use handmade fabrics sourced ethically from india! \\n\\n[cryafty](https://www.instagram.com/cryafty/)                                                                                    \n",
       "\n",
       "  comment_link_id keyword  \\\n",
       "0  t3_gzpwr7       BIPOC    \n",
       "1  t3_gzpwr7       BIPOC    \n",
       "2  t3_gzpwr7       BIPOC    \n",
       "3  t3_gzpwr7       BIPOC    \n",
       "4  t3_gzpwr7       BIPOC    \n",
       "5  t3_gzpwr7       BIPOC    \n",
       "\n",
       "                                                                                                                                                                                                                                                                                                                                                                                        comment_body_preprocessed  \n",
       "0  hello, i’m a fashion designer based in ct. born in al. raised in nyc.\\n\\n[here is all my social accounts; website; and my most recent video on me making my koi fish dress](https://linktr.ee/derells.style) \\n\\n✨ style is something each of us already has, all we need to do is find it! ✨\\n\\n🖤 we hope to see you around 🖤                                                                                  \n",
       "1  highly recommend following [babbarra designs](https://www.instagram.com/babbarradesigns/). it is an australian aboriginal womens center that produces fashion, textiles, and art and they showcase the artists and designers and the skill that goes into making the breathtaking textiles. it is also just a really joyous page with lots of images of the artists showing off their own designs or garments.  \n",
       "2  [birr apparel ](www.birrapparel.com)                                                                                                                                                                                                                                                                                                                                                                            \n",
       "3  [deleted]                                                                                                                                                                                                                                                                                                                                                                                                       \n",
       "4  [zelie for she](https://www.instagram.com/zelieforshe/) does plus sized basics. based out of la.                                                                                                                                                                                                                                                                                                                \n",
       "5  if you are based somewhere in asia and really like cute summer tops that use a lot of upcycled and/or organic materials, my girlfriend started her own brand. \\n\\nwe are an asian couple based in singapore and we try to use handmade fabrics sourced ethically from india! \\n\\n[cryafty](https://www.instagram.com/cryafty/)                                                                                  "
      ]
     },
     "execution_count": 79,
     "metadata": {},
     "output_type": "execute_result"
    }
   ],
   "source": [
    "comments_df.head(n = 6)"
   ]
  },
  {
   "cell_type": "markdown",
   "metadata": {},
   "source": [
    "## Removing punctuation and noise"
   ]
  },
  {
   "cell_type": "code",
   "execution_count": 81,
   "metadata": {},
   "outputs": [],
   "source": [
    "# remove unnecessary punctuation\n",
    "tokenizer = nltk.RegexpTokenizer(r\"\\w+\")\n",
    "comments_df['comment_body_preprocessed'] = comments_df['comment_body_preprocessed'].apply(tokenizer.tokenize)"
   ]
  },
  {
   "cell_type": "code",
   "execution_count": 82,
   "metadata": {},
   "outputs": [],
   "source": [
    "# add them back into a long string\n",
    "comments_df['comment_body_preprocessed'] = comments_df['comment_body_preprocessed'].str.join(\" \")"
   ]
  },
  {
   "cell_type": "code",
   "execution_count": 83,
   "metadata": {
    "scrolled": false
   },
   "outputs": [
    {
     "data": {
      "text/html": [
       "<div>\n",
       "<style scoped>\n",
       "    .dataframe tbody tr th:only-of-type {\n",
       "        vertical-align: middle;\n",
       "    }\n",
       "\n",
       "    .dataframe tbody tr th {\n",
       "        vertical-align: top;\n",
       "    }\n",
       "\n",
       "    .dataframe thead th {\n",
       "        text-align: right;\n",
       "    }\n",
       "</style>\n",
       "<table border=\"1\" class=\"dataframe\">\n",
       "  <thead>\n",
       "    <tr style=\"text-align: right;\">\n",
       "      <th></th>\n",
       "      <th>comment_id</th>\n",
       "      <th>comment_parent_id</th>\n",
       "      <th>comment_body</th>\n",
       "      <th>comment_link_id</th>\n",
       "      <th>keyword</th>\n",
       "      <th>comment_body_preprocessed</th>\n",
       "    </tr>\n",
       "  </thead>\n",
       "  <tbody>\n",
       "    <tr>\n",
       "      <th>0</th>\n",
       "      <td>fuqh75f</td>\n",
       "      <td>t3_gzpwr7</td>\n",
       "      <td>hello, i’m a fashion designer based in ct. born in al. raised in nyc.\\n\\n[here is all my social accounts; website; and my most recent video on me making my koi fish dress](https://linktr.ee/derells.style) \\n\\n✨ style is something each of us already has, all we need to do is find it! ✨\\n\\n🖤 we hope to see you around 🖤</td>\n",
       "      <td>t3_gzpwr7</td>\n",
       "      <td>BIPOC</td>\n",
       "      <td>hello i m a fashion designer based in ct born in al raised in nyc here is all my social accounts website and my most recent video on me making my koi fish dress https linktr ee derells style style is something each of us already has all we need to do is find it we hope to see you around</td>\n",
       "    </tr>\n",
       "    <tr>\n",
       "      <th>1</th>\n",
       "      <td>fvfycp8</td>\n",
       "      <td>t3_gzpwr7</td>\n",
       "      <td>highly recommend following [babbarra designs](https://www.instagram.com/babbarradesigns/). it's an australian aboriginal women's center that produces fashion, textiles, and art and they showcase the artists and designers and the skill that goes into making the breathtaking textiles. it's also just a really joyous page with lots of images of the artists showing off their own designs or garments.</td>\n",
       "      <td>t3_gzpwr7</td>\n",
       "      <td>BIPOC</td>\n",
       "      <td>highly recommend following babbarra designs https www instagram com babbarradesigns it is an australian aboriginal womens center that produces fashion textiles and art and they showcase the artists and designers and the skill that goes into making the breathtaking textiles it is also just a really joyous page with lots of images of the artists showing off their own designs or garments</td>\n",
       "    </tr>\n",
       "  </tbody>\n",
       "</table>\n",
       "</div>"
      ],
      "text/plain": [
       "  comment_id comment_parent_id  \\\n",
       "0  fuqh75f    t3_gzpwr7          \n",
       "1  fvfycp8    t3_gzpwr7          \n",
       "\n",
       "                                                                                                                                                                                                                                                                                                                                                                                                    comment_body  \\\n",
       "0  hello, i’m a fashion designer based in ct. born in al. raised in nyc.\\n\\n[here is all my social accounts; website; and my most recent video on me making my koi fish dress](https://linktr.ee/derells.style) \\n\\n✨ style is something each of us already has, all we need to do is find it! ✨\\n\\n🖤 we hope to see you around 🖤                                                                                  \n",
       "1  highly recommend following [babbarra designs](https://www.instagram.com/babbarradesigns/). it's an australian aboriginal women's center that produces fashion, textiles, and art and they showcase the artists and designers and the skill that goes into making the breathtaking textiles. it's also just a really joyous page with lots of images of the artists showing off their own designs or garments.   \n",
       "\n",
       "  comment_link_id keyword  \\\n",
       "0  t3_gzpwr7       BIPOC    \n",
       "1  t3_gzpwr7       BIPOC    \n",
       "\n",
       "                                                                                                                                                                                                                                                                                                                                                                             comment_body_preprocessed  \n",
       "0  hello i m a fashion designer based in ct born in al raised in nyc here is all my social accounts website and my most recent video on me making my koi fish dress https linktr ee derells style style is something each of us already has all we need to do is find it we hope to see you around                                                                                                      \n",
       "1  highly recommend following babbarra designs https www instagram com babbarradesigns it is an australian aboriginal womens center that produces fashion textiles and art and they showcase the artists and designers and the skill that goes into making the breathtaking textiles it is also just a really joyous page with lots of images of the artists showing off their own designs or garments  "
      ]
     },
     "execution_count": 83,
     "metadata": {},
     "output_type": "execute_result"
    }
   ],
   "source": [
    "comments_df.head(n = 2)"
   ]
  },
  {
   "cell_type": "markdown",
   "metadata": {},
   "source": [
    "## Tokenization"
   ]
  },
  {
   "cell_type": "code",
   "execution_count": 84,
   "metadata": {},
   "outputs": [],
   "source": [
    "comments_df['tokenized'] = comments_df['comment_body_preprocessed'].apply(word_tokenize)"
   ]
  },
  {
   "cell_type": "code",
   "execution_count": 85,
   "metadata": {},
   "outputs": [
    {
     "data": {
      "text/html": [
       "<div>\n",
       "<style scoped>\n",
       "    .dataframe tbody tr th:only-of-type {\n",
       "        vertical-align: middle;\n",
       "    }\n",
       "\n",
       "    .dataframe tbody tr th {\n",
       "        vertical-align: top;\n",
       "    }\n",
       "\n",
       "    .dataframe thead th {\n",
       "        text-align: right;\n",
       "    }\n",
       "</style>\n",
       "<table border=\"1\" class=\"dataframe\">\n",
       "  <thead>\n",
       "    <tr style=\"text-align: right;\">\n",
       "      <th></th>\n",
       "      <th>comment_id</th>\n",
       "      <th>comment_parent_id</th>\n",
       "      <th>comment_body</th>\n",
       "      <th>comment_link_id</th>\n",
       "      <th>keyword</th>\n",
       "      <th>comment_body_preprocessed</th>\n",
       "      <th>tokenized</th>\n",
       "    </tr>\n",
       "  </thead>\n",
       "  <tbody>\n",
       "    <tr>\n",
       "      <th>0</th>\n",
       "      <td>fuqh75f</td>\n",
       "      <td>t3_gzpwr7</td>\n",
       "      <td>hello, i’m a fashion designer based in ct. born in al. raised in nyc.\\n\\n[here is all my social accounts; website; and my most recent video on me making my koi fish dress](https://linktr.ee/derells.style) \\n\\n✨ style is something each of us already has, all we need to do is find it! ✨\\n\\n🖤 we hope to see you around 🖤</td>\n",
       "      <td>t3_gzpwr7</td>\n",
       "      <td>BIPOC</td>\n",
       "      <td>hello i m a fashion designer based in ct born in al raised in nyc here is all my social accounts website and my most recent video on me making my koi fish dress https linktr ee derells style style is something each of us already has all we need to do is find it we hope to see you around</td>\n",
       "      <td>[hello, i, m, a, fashion, designer, based, in, ct, born, in, al, raised, in, nyc, here, is, all, my, social, accounts, website, and, my, most, recent, video, on, me, making, my, koi, fish, dress, https, linktr, ee, derells, style, style, is, something, each, of, us, already, has, all, we, need, to, do, is, find, it, we, hope, to, see, you, around]</td>\n",
       "    </tr>\n",
       "    <tr>\n",
       "      <th>1</th>\n",
       "      <td>fvfycp8</td>\n",
       "      <td>t3_gzpwr7</td>\n",
       "      <td>highly recommend following [babbarra designs](https://www.instagram.com/babbarradesigns/). it's an australian aboriginal women's center that produces fashion, textiles, and art and they showcase the artists and designers and the skill that goes into making the breathtaking textiles. it's also just a really joyous page with lots of images of the artists showing off their own designs or garments.</td>\n",
       "      <td>t3_gzpwr7</td>\n",
       "      <td>BIPOC</td>\n",
       "      <td>highly recommend following babbarra designs https www instagram com babbarradesigns it is an australian aboriginal womens center that produces fashion textiles and art and they showcase the artists and designers and the skill that goes into making the breathtaking textiles it is also just a really joyous page with lots of images of the artists showing off their own designs or garments</td>\n",
       "      <td>[highly, recommend, following, babbarra, designs, https, www, instagram, com, babbarradesigns, it, is, an, australian, aboriginal, womens, center, that, produces, fashion, textiles, and, art, and, they, showcase, the, artists, and, designers, and, the, skill, that, goes, into, making, the, breathtaking, textiles, it, is, also, just, a, really, joyous, page, with, lots, of, images, of, the, artists, showing, off, their, own, designs, or, garments]</td>\n",
       "    </tr>\n",
       "  </tbody>\n",
       "</table>\n",
       "</div>"
      ],
      "text/plain": [
       "  comment_id comment_parent_id  \\\n",
       "0  fuqh75f    t3_gzpwr7          \n",
       "1  fvfycp8    t3_gzpwr7          \n",
       "\n",
       "                                                                                                                                                                                                                                                                                                                                                                                                    comment_body  \\\n",
       "0  hello, i’m a fashion designer based in ct. born in al. raised in nyc.\\n\\n[here is all my social accounts; website; and my most recent video on me making my koi fish dress](https://linktr.ee/derells.style) \\n\\n✨ style is something each of us already has, all we need to do is find it! ✨\\n\\n🖤 we hope to see you around 🖤                                                                                  \n",
       "1  highly recommend following [babbarra designs](https://www.instagram.com/babbarradesigns/). it's an australian aboriginal women's center that produces fashion, textiles, and art and they showcase the artists and designers and the skill that goes into making the breathtaking textiles. it's also just a really joyous page with lots of images of the artists showing off their own designs or garments.   \n",
       "\n",
       "  comment_link_id keyword  \\\n",
       "0  t3_gzpwr7       BIPOC    \n",
       "1  t3_gzpwr7       BIPOC    \n",
       "\n",
       "                                                                                                                                                                                                                                                                                                                                                                             comment_body_preprocessed  \\\n",
       "0  hello i m a fashion designer based in ct born in al raised in nyc here is all my social accounts website and my most recent video on me making my koi fish dress https linktr ee derells style style is something each of us already has all we need to do is find it we hope to see you around                                                                                                       \n",
       "1  highly recommend following babbarra designs https www instagram com babbarradesigns it is an australian aboriginal womens center that produces fashion textiles and art and they showcase the artists and designers and the skill that goes into making the breathtaking textiles it is also just a really joyous page with lots of images of the artists showing off their own designs or garments   \n",
       "\n",
       "                                                                                                                                                                                                                                                                                                                                                                                                                                                            tokenized  \n",
       "0  [hello, i, m, a, fashion, designer, based, in, ct, born, in, al, raised, in, nyc, here, is, all, my, social, accounts, website, and, my, most, recent, video, on, me, making, my, koi, fish, dress, https, linktr, ee, derells, style, style, is, something, each, of, us, already, has, all, we, need, to, do, is, find, it, we, hope, to, see, you, around]                                                                                                       \n",
       "1  [highly, recommend, following, babbarra, designs, https, www, instagram, com, babbarradesigns, it, is, an, australian, aboriginal, womens, center, that, produces, fashion, textiles, and, art, and, they, showcase, the, artists, and, designers, and, the, skill, that, goes, into, making, the, breathtaking, textiles, it, is, also, just, a, really, joyous, page, with, lots, of, images, of, the, artists, showing, off, their, own, designs, or, garments]  "
      ]
     },
     "execution_count": 85,
     "metadata": {},
     "output_type": "execute_result"
    }
   ],
   "source": [
    "comments_df.head(n = 2)"
   ]
  },
  {
   "cell_type": "markdown",
   "metadata": {},
   "source": [
    "## Stop-word removal"
   ]
  },
  {
   "cell_type": "code",
   "execution_count": 62,
   "metadata": {},
   "outputs": [
    {
     "name": "stderr",
     "output_type": "stream",
     "text": [
      "[nltk_data] Downloading package stopwords to /Users/mei/nltk_data...\n",
      "[nltk_data]   Package stopwords is already up-to-date!\n"
     ]
    },
    {
     "data": {
      "text/plain": [
       "True"
      ]
     },
     "execution_count": 62,
     "metadata": {},
     "output_type": "execute_result"
    }
   ],
   "source": [
    "nltk.download('stopwords')"
   ]
  },
  {
   "cell_type": "code",
   "execution_count": 63,
   "metadata": {},
   "outputs": [],
   "source": [
    "stopword_list = stopwords.words('english')"
   ]
  },
  {
   "cell_type": "code",
   "execution_count": 86,
   "metadata": {},
   "outputs": [],
   "source": [
    "comments_df['comment_body_preprocessed'] = comments_df['tokenized'].apply(remove_stopwords)"
   ]
  },
  {
   "cell_type": "code",
   "execution_count": 87,
   "metadata": {},
   "outputs": [
    {
     "data": {
      "text/html": [
       "<div>\n",
       "<style scoped>\n",
       "    .dataframe tbody tr th:only-of-type {\n",
       "        vertical-align: middle;\n",
       "    }\n",
       "\n",
       "    .dataframe tbody tr th {\n",
       "        vertical-align: top;\n",
       "    }\n",
       "\n",
       "    .dataframe thead th {\n",
       "        text-align: right;\n",
       "    }\n",
       "</style>\n",
       "<table border=\"1\" class=\"dataframe\">\n",
       "  <thead>\n",
       "    <tr style=\"text-align: right;\">\n",
       "      <th></th>\n",
       "      <th>comment_id</th>\n",
       "      <th>comment_parent_id</th>\n",
       "      <th>comment_body</th>\n",
       "      <th>comment_link_id</th>\n",
       "      <th>keyword</th>\n",
       "      <th>comment_body_preprocessed</th>\n",
       "      <th>tokenized</th>\n",
       "    </tr>\n",
       "  </thead>\n",
       "  <tbody>\n",
       "    <tr>\n",
       "      <th>0</th>\n",
       "      <td>fuqh75f</td>\n",
       "      <td>t3_gzpwr7</td>\n",
       "      <td>hello, i’m a fashion designer based in ct. born in al. raised in nyc.\\n\\n[here is all my social accounts; website; and my most recent video on me making my koi fish dress](https://linktr.ee/derells.style) \\n\\n✨ style is something each of us already has, all we need to do is find it! ✨\\n\\n🖤 we hope to see you around 🖤</td>\n",
       "      <td>t3_gzpwr7</td>\n",
       "      <td>BIPOC</td>\n",
       "      <td>hello fashion designer based ct born al raised nyc social accounts website recent video making koi fish dress https linktr ee derells style style something us already need find hope see around</td>\n",
       "      <td>[hello, i, m, a, fashion, designer, based, in, ct, born, in, al, raised, in, nyc, here, is, all, my, social, accounts, website, and, my, most, recent, video, on, me, making, my, koi, fish, dress, https, linktr, ee, derells, style, style, is, something, each, of, us, already, has, all, we, need, to, do, is, find, it, we, hope, to, see, you, around]</td>\n",
       "    </tr>\n",
       "    <tr>\n",
       "      <th>1</th>\n",
       "      <td>fvfycp8</td>\n",
       "      <td>t3_gzpwr7</td>\n",
       "      <td>highly recommend following [babbarra designs](https://www.instagram.com/babbarradesigns/). it's an australian aboriginal women's center that produces fashion, textiles, and art and they showcase the artists and designers and the skill that goes into making the breathtaking textiles. it's also just a really joyous page with lots of images of the artists showing off their own designs or garments.</td>\n",
       "      <td>t3_gzpwr7</td>\n",
       "      <td>BIPOC</td>\n",
       "      <td>highly recommend following babbarra designs https www instagram com babbarradesigns australian aboriginal womens center produces fashion textiles art showcase artists designers skill goes making breathtaking textiles also really joyous page lots images artists showing designs garments</td>\n",
       "      <td>[highly, recommend, following, babbarra, designs, https, www, instagram, com, babbarradesigns, it, is, an, australian, aboriginal, womens, center, that, produces, fashion, textiles, and, art, and, they, showcase, the, artists, and, designers, and, the, skill, that, goes, into, making, the, breathtaking, textiles, it, is, also, just, a, really, joyous, page, with, lots, of, images, of, the, artists, showing, off, their, own, designs, or, garments]</td>\n",
       "    </tr>\n",
       "  </tbody>\n",
       "</table>\n",
       "</div>"
      ],
      "text/plain": [
       "  comment_id comment_parent_id  \\\n",
       "0  fuqh75f    t3_gzpwr7          \n",
       "1  fvfycp8    t3_gzpwr7          \n",
       "\n",
       "                                                                                                                                                                                                                                                                                                                                                                                                    comment_body  \\\n",
       "0  hello, i’m a fashion designer based in ct. born in al. raised in nyc.\\n\\n[here is all my social accounts; website; and my most recent video on me making my koi fish dress](https://linktr.ee/derells.style) \\n\\n✨ style is something each of us already has, all we need to do is find it! ✨\\n\\n🖤 we hope to see you around 🖤                                                                                  \n",
       "1  highly recommend following [babbarra designs](https://www.instagram.com/babbarradesigns/). it's an australian aboriginal women's center that produces fashion, textiles, and art and they showcase the artists and designers and the skill that goes into making the breathtaking textiles. it's also just a really joyous page with lots of images of the artists showing off their own designs or garments.   \n",
       "\n",
       "  comment_link_id keyword  \\\n",
       "0  t3_gzpwr7       BIPOC    \n",
       "1  t3_gzpwr7       BIPOC    \n",
       "\n",
       "                                                                                                                                                                                                                                                                       comment_body_preprocessed  \\\n",
       "0  hello fashion designer based ct born al raised nyc social accounts website recent video making koi fish dress https linktr ee derells style style something us already need find hope see around                                                                                                \n",
       "1  highly recommend following babbarra designs https www instagram com babbarradesigns australian aboriginal womens center produces fashion textiles art showcase artists designers skill goes making breathtaking textiles also really joyous page lots images artists showing designs garments   \n",
       "\n",
       "                                                                                                                                                                                                                                                                                                                                                                                                                                                            tokenized  \n",
       "0  [hello, i, m, a, fashion, designer, based, in, ct, born, in, al, raised, in, nyc, here, is, all, my, social, accounts, website, and, my, most, recent, video, on, me, making, my, koi, fish, dress, https, linktr, ee, derells, style, style, is, something, each, of, us, already, has, all, we, need, to, do, is, find, it, we, hope, to, see, you, around]                                                                                                       \n",
       "1  [highly, recommend, following, babbarra, designs, https, www, instagram, com, babbarradesigns, it, is, an, australian, aboriginal, womens, center, that, produces, fashion, textiles, and, art, and, they, showcase, the, artists, and, designers, and, the, skill, that, goes, into, making, the, breathtaking, textiles, it, is, also, just, a, really, joyous, page, with, lots, of, images, of, the, artists, showing, off, their, own, designs, or, garments]  "
      ]
     },
     "execution_count": 87,
     "metadata": {},
     "output_type": "execute_result"
    }
   ],
   "source": [
    "comments_df.head(n = 2)"
   ]
  },
  {
   "cell_type": "markdown",
   "metadata": {},
   "source": [
    "## Stemming"
   ]
  },
  {
   "cell_type": "code",
   "execution_count": 88,
   "metadata": {},
   "outputs": [],
   "source": [
    "def simple_stemmer(text):\n",
    "    \n",
    "    ps = nltk.porter.PorterStemmer()\n",
    "    text = ' '.join([ps.stem(word) for word in text.split()])\n",
    "    \n",
    "    return text"
   ]
  },
  {
   "cell_type": "code",
   "execution_count": 89,
   "metadata": {},
   "outputs": [],
   "source": [
    "comments_df['stemmed'] = comments_df['comment_body_preprocessed'].apply(simple_stemmer)"
   ]
  },
  {
   "cell_type": "code",
   "execution_count": 90,
   "metadata": {
    "scrolled": true
   },
   "outputs": [
    {
     "data": {
      "text/html": [
       "<div>\n",
       "<style scoped>\n",
       "    .dataframe tbody tr th:only-of-type {\n",
       "        vertical-align: middle;\n",
       "    }\n",
       "\n",
       "    .dataframe tbody tr th {\n",
       "        vertical-align: top;\n",
       "    }\n",
       "\n",
       "    .dataframe thead th {\n",
       "        text-align: right;\n",
       "    }\n",
       "</style>\n",
       "<table border=\"1\" class=\"dataframe\">\n",
       "  <thead>\n",
       "    <tr style=\"text-align: right;\">\n",
       "      <th></th>\n",
       "      <th>comment_id</th>\n",
       "      <th>comment_parent_id</th>\n",
       "      <th>comment_body</th>\n",
       "      <th>comment_link_id</th>\n",
       "      <th>keyword</th>\n",
       "      <th>comment_body_preprocessed</th>\n",
       "      <th>tokenized</th>\n",
       "      <th>stemmed</th>\n",
       "    </tr>\n",
       "  </thead>\n",
       "  <tbody>\n",
       "    <tr>\n",
       "      <th>0</th>\n",
       "      <td>fuqh75f</td>\n",
       "      <td>t3_gzpwr7</td>\n",
       "      <td>hello, i’m a fashion designer based in ct. born in al. raised in nyc.\\n\\n[here is all my social accounts; website; and my most recent video on me making my koi fish dress](https://linktr.ee/derells.style) \\n\\n✨ style is something each of us already has, all we need to do is find it! ✨\\n\\n🖤 we hope to see you around 🖤</td>\n",
       "      <td>t3_gzpwr7</td>\n",
       "      <td>BIPOC</td>\n",
       "      <td>hello fashion designer based ct born al raised nyc social accounts website recent video making koi fish dress https linktr ee derells style style something us already need find hope see around</td>\n",
       "      <td>[hello, i, m, a, fashion, designer, based, in, ct, born, in, al, raised, in, nyc, here, is, all, my, social, accounts, website, and, my, most, recent, video, on, me, making, my, koi, fish, dress, https, linktr, ee, derells, style, style, is, something, each, of, us, already, has, all, we, need, to, do, is, find, it, we, hope, to, see, you, around]</td>\n",
       "      <td>hello fashion design base ct born al rais nyc social account websit recent video make koi fish dress http linktr ee derel style style someth us alreadi need find hope see around</td>\n",
       "    </tr>\n",
       "    <tr>\n",
       "      <th>1</th>\n",
       "      <td>fvfycp8</td>\n",
       "      <td>t3_gzpwr7</td>\n",
       "      <td>highly recommend following [babbarra designs](https://www.instagram.com/babbarradesigns/). it's an australian aboriginal women's center that produces fashion, textiles, and art and they showcase the artists and designers and the skill that goes into making the breathtaking textiles. it's also just a really joyous page with lots of images of the artists showing off their own designs or garments.</td>\n",
       "      <td>t3_gzpwr7</td>\n",
       "      <td>BIPOC</td>\n",
       "      <td>highly recommend following babbarra designs https www instagram com babbarradesigns australian aboriginal womens center produces fashion textiles art showcase artists designers skill goes making breathtaking textiles also really joyous page lots images artists showing designs garments</td>\n",
       "      <td>[highly, recommend, following, babbarra, designs, https, www, instagram, com, babbarradesigns, it, is, an, australian, aboriginal, womens, center, that, produces, fashion, textiles, and, art, and, they, showcase, the, artists, and, designers, and, the, skill, that, goes, into, making, the, breathtaking, textiles, it, is, also, just, a, really, joyous, page, with, lots, of, images, of, the, artists, showing, off, their, own, designs, or, garments]</td>\n",
       "      <td>highli recommend follow babbarra design http www instagram com babbarradesign australian aborigin women center produc fashion textil art showcas artist design skill goe make breathtak textil also realli joyou page lot imag artist show design garment</td>\n",
       "    </tr>\n",
       "  </tbody>\n",
       "</table>\n",
       "</div>"
      ],
      "text/plain": [
       "  comment_id comment_parent_id  \\\n",
       "0  fuqh75f    t3_gzpwr7          \n",
       "1  fvfycp8    t3_gzpwr7          \n",
       "\n",
       "                                                                                                                                                                                                                                                                                                                                                                                                    comment_body  \\\n",
       "0  hello, i’m a fashion designer based in ct. born in al. raised in nyc.\\n\\n[here is all my social accounts; website; and my most recent video on me making my koi fish dress](https://linktr.ee/derells.style) \\n\\n✨ style is something each of us already has, all we need to do is find it! ✨\\n\\n🖤 we hope to see you around 🖤                                                                                  \n",
       "1  highly recommend following [babbarra designs](https://www.instagram.com/babbarradesigns/). it's an australian aboriginal women's center that produces fashion, textiles, and art and they showcase the artists and designers and the skill that goes into making the breathtaking textiles. it's also just a really joyous page with lots of images of the artists showing off their own designs or garments.   \n",
       "\n",
       "  comment_link_id keyword  \\\n",
       "0  t3_gzpwr7       BIPOC    \n",
       "1  t3_gzpwr7       BIPOC    \n",
       "\n",
       "                                                                                                                                                                                                                                                                       comment_body_preprocessed  \\\n",
       "0  hello fashion designer based ct born al raised nyc social accounts website recent video making koi fish dress https linktr ee derells style style something us already need find hope see around                                                                                                \n",
       "1  highly recommend following babbarra designs https www instagram com babbarradesigns australian aboriginal womens center produces fashion textiles art showcase artists designers skill goes making breathtaking textiles also really joyous page lots images artists showing designs garments   \n",
       "\n",
       "                                                                                                                                                                                                                                                                                                                                                                                                                                                            tokenized  \\\n",
       "0  [hello, i, m, a, fashion, designer, based, in, ct, born, in, al, raised, in, nyc, here, is, all, my, social, accounts, website, and, my, most, recent, video, on, me, making, my, koi, fish, dress, https, linktr, ee, derells, style, style, is, something, each, of, us, already, has, all, we, need, to, do, is, find, it, we, hope, to, see, you, around]                                                                                                        \n",
       "1  [highly, recommend, following, babbarra, designs, https, www, instagram, com, babbarradesigns, it, is, an, australian, aboriginal, womens, center, that, produces, fashion, textiles, and, art, and, they, showcase, the, artists, and, designers, and, the, skill, that, goes, into, making, the, breathtaking, textiles, it, is, also, just, a, really, joyous, page, with, lots, of, images, of, the, artists, showing, off, their, own, designs, or, garments]   \n",
       "\n",
       "                                                                                                                                                                                                                                                     stemmed  \n",
       "0  hello fashion design base ct born al rais nyc social account websit recent video make koi fish dress http linktr ee derel style style someth us alreadi need find hope see around                                                                          \n",
       "1  highli recommend follow babbarra design http www instagram com babbarradesign australian aborigin women center produc fashion textil art showcas artist design skill goe make breathtak textil also realli joyou page lot imag artist show design garment  "
      ]
     },
     "execution_count": 90,
     "metadata": {},
     "output_type": "execute_result"
    }
   ],
   "source": [
    "comments_df.head(n = 2)"
   ]
  },
  {
   "cell_type": "code",
   "execution_count": 53,
   "metadata": {},
   "outputs": [],
   "source": [
    "#comments_df.to_csv(r'/Users/mei/Documents/project/MEGA_ffa_comments_identity_preprocessed.csv',index = False, header=True)"
   ]
  },
  {
   "cell_type": "code",
   "execution_count": null,
   "metadata": {},
   "outputs": [],
   "source": []
  }
 ],
 "metadata": {
  "kernelspec": {
   "display_name": "Python 3",
   "language": "python",
   "name": "python3"
  },
  "language_info": {
   "codemirror_mode": {
    "name": "ipython",
    "version": 3
   },
   "file_extension": ".py",
   "mimetype": "text/x-python",
   "name": "python",
   "nbconvert_exporter": "python",
   "pygments_lexer": "ipython3",
   "version": "3.8.5"
  }
 },
 "nbformat": 4,
 "nbformat_minor": 2
}
