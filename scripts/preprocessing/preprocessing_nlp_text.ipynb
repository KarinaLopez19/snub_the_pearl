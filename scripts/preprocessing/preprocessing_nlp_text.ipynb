{
 "cells": [
  {
   "cell_type": "markdown",
   "metadata": {},
   "source": [
    "# Preprocessing text data for NLP analysis\n",
    "## Author: Karina Lopez\n",
    "### Last updated: 04/20/2021\n",
    "\n",
    "**Purpose:** Clean raw text data for NLP analysis. Steps include tokenization, lower-casing, stop-word removal, stemming, and lemmatization\n",
    "\n",
    "Source: https://towardsdatascience.com/text-preprocessing-in-natural-language-processing-using-python-6113ff5decd8\n",
    "\n"
   ]
  },
  {
   "cell_type": "markdown",
   "metadata": {},
   "source": [
    "# Load in your packages and default styles"
   ]
  },
  {
   "cell_type": "code",
   "execution_count": 40,
   "metadata": {},
   "outputs": [
    {
     "name": "stderr",
     "output_type": "stream",
     "text": [
      "[nltk_data] Downloading package punkt to\n",
      "[nltk_data]     /Users/karinalopez/nltk_data...\n",
      "[nltk_data]   Package punkt is already up-to-date!\n",
      "<ipython-input-40-b3b1b0cd64b9>:26: FutureWarning: Passing a negative integer is deprecated in version 1.0 and will not be supported in future version. Instead, use None to not limit the column width.\n",
      "  pd.set_option('display.max_colwidth', -1)  # or 199\n"
     ]
    }
   ],
   "source": [
    "import pandas as pd\n",
    "import glob\n",
    "import os\n",
    "\n",
    "import seaborn as sns\n",
    "sns.set_style('darkgrid')\n",
    "\n",
    "import nltk\n",
    "from nltk.corpus import stopwords\n",
    "from nltk.stem.wordnet import WordNetLemmatizer\n",
    "from nltk.corpus import twitter_samples, stopwords\n",
    "from nltk.tag import pos_tag\n",
    "from nltk.tokenize import word_tokenize\n",
    "from nltk import FreqDist, classify, NaiveBayesClassifier\n",
    "nltk.download('punkt')\n",
    "\n",
    "import re, string, random\n",
    "\n",
    "%matplotlib inline\n",
    "import matplotlib.pyplot as plt\n",
    "import matplotlib\n",
    "\n",
    "#setting pandas display options\n",
    "pd.set_option('display.max_columns', None)  # or 1000\n",
    "pd.set_option('display.max_rows', None)  # or 1000\n",
    "pd.set_option('display.max_colwidth', -1)  # or 199\n",
    "\n",
    "BASE_DIR = \"/Users/karinalopez/Desktop/ds_projects/nlp/data/\""
   ]
  },
  {
   "cell_type": "code",
   "execution_count": 2,
   "metadata": {},
   "outputs": [],
   "source": [
    "def remove_noise(tweet_tokens, stop_words = ()):\n",
    "\n",
    "    cleaned_tokens = []\n",
    "\n",
    "    for token, tag in pos_tag(tweet_tokens):\n",
    "        \n",
    "        token = re.sub('http[s]?://(?:[a-zA-Z]|[0-9]|[$-_@.&+#]|[!*\\(\\),]|'\\\n",
    "                       '(?:%[0-9a-fA-F][0-9a-fA-F]))+','', token)\n",
    "        token = re.sub(\"(@[A-Za-z0-9_]+)\",\"\", token)\n",
    "\n",
    "        if tag.startswith(\"NN\"):\n",
    "            pos = 'n'\n",
    "        \n",
    "        elif tag.startswith('VB'):\n",
    "            pos = 'v'\n",
    "        \n",
    "        else:\n",
    "            pos = 'a'\n",
    "\n",
    "        lemmatizer = WordNetLemmatizer()\n",
    "        token = lemmatizer.lemmatize(token, pos)\n",
    "\n",
    "        if len(token) > 0 and token not in string.punctuation and token.lower() not in stop_words:\n",
    "            cleaned_tokens.append(token.lower())\n",
    "    \n",
    "    return cleaned_tokens\n"
   ]
  },
  {
   "cell_type": "code",
   "execution_count": 3,
   "metadata": {},
   "outputs": [],
   "source": [
    "def get_all_words(cleaned_tokens_list):\n",
    "    \n",
    "    for tokens in cleaned_tokens_list:\n",
    "        \n",
    "        for token in tokens:\n",
    "            \n",
    "            yield token\n"
   ]
  },
  {
   "cell_type": "code",
   "execution_count": 4,
   "metadata": {},
   "outputs": [],
   "source": [
    "def get_tweets_for_model(cleaned_tokens_list):\n",
    "    \n",
    "    for tweet_tokens in cleaned_tokens_list:\n",
    "        \n",
    "        yield dict([token, True] for token in tweet_tokens)"
   ]
  },
  {
   "cell_type": "code",
   "execution_count": 5,
   "metadata": {},
   "outputs": [],
   "source": [
    "os.chdir(BASE_DIR + 'raw/ffa/')\n",
    "posts_df = pd.read_csv('MEGA_ffa_posts_company.csv')\n",
    "comments_df = pd.read_csv('MEGA_ffa_comments_company.csv')"
   ]
  },
  {
   "cell_type": "code",
   "execution_count": 6,
   "metadata": {},
   "outputs": [
    {
     "name": "stdout",
     "output_type": "stream",
     "text": [
      "(247, 8)\n"
     ]
    },
    {
     "data": {
      "text/html": [
       "<div>\n",
       "<style scoped>\n",
       "    .dataframe tbody tr th:only-of-type {\n",
       "        vertical-align: middle;\n",
       "    }\n",
       "\n",
       "    .dataframe tbody tr th {\n",
       "        vertical-align: top;\n",
       "    }\n",
       "\n",
       "    .dataframe thead th {\n",
       "        text-align: right;\n",
       "    }\n",
       "</style>\n",
       "<table border=\"1\" class=\"dataframe\">\n",
       "  <thead>\n",
       "    <tr style=\"text-align: right;\">\n",
       "      <th></th>\n",
       "      <th>title</th>\n",
       "      <th>score</th>\n",
       "      <th>id</th>\n",
       "      <th>url</th>\n",
       "      <th>comms_num</th>\n",
       "      <th>created</th>\n",
       "      <th>body</th>\n",
       "      <th>keyword</th>\n",
       "    </tr>\n",
       "  </thead>\n",
       "  <tbody>\n",
       "    <tr>\n",
       "      <th>0</th>\n",
       "      <td>A review of all the leggings I own - Alo Yoga, Nike, Outdoor Voices, Girlfriend Collective, Lululemon, Uniqlo</td>\n",
       "      <td>1546</td>\n",
       "      <td>gbm76k</td>\n",
       "      <td>https://www.reddit.com/r/femalefashionadvice/comments/gbm76k/a_review_of_all_the_leggings_i_own_alo_yoga_nike/</td>\n",
       "      <td>355</td>\n",
       "      <td>1588353444</td>\n",
       "      <td>t3_gbm76k</td>\n",
       "      <td>Girlfriend Collective</td>\n",
       "    </tr>\n",
       "  </tbody>\n",
       "</table>\n",
       "</div>"
      ],
      "text/plain": [
       "                                                                                                           title  \\\n",
       "0  A review of all the leggings I own - Alo Yoga, Nike, Outdoor Voices, Girlfriend Collective, Lululemon, Uniqlo   \n",
       "\n",
       "   score      id  \\\n",
       "0  1546   gbm76k   \n",
       "\n",
       "                                                                                                              url  \\\n",
       "0  https://www.reddit.com/r/femalefashionadvice/comments/gbm76k/a_review_of_all_the_leggings_i_own_alo_yoga_nike/   \n",
       "\n",
       "   comms_num     created       body                keyword  \n",
       "0  355        1588353444  t3_gbm76k  Girlfriend Collective  "
      ]
     },
     "execution_count": 6,
     "metadata": {},
     "output_type": "execute_result"
    }
   ],
   "source": [
    "print(posts_df.shape)\n",
    "posts_df.head(n = 1)"
   ]
  },
  {
   "cell_type": "code",
   "execution_count": 7,
   "metadata": {},
   "outputs": [
    {
     "data": {
      "text/plain": [
       "Nike                     100\n",
       "Lululemon                52 \n",
       "Adidas                   47 \n",
       "Athleta                  37 \n",
       "Girlfriend Collective    9  \n",
       "Alo Yoga                 2  \n",
       "Name: keyword, dtype: int64"
      ]
     },
     "execution_count": 7,
     "metadata": {},
     "output_type": "execute_result"
    }
   ],
   "source": [
    "posts_df['keyword'].value_counts()"
   ]
  },
  {
   "cell_type": "code",
   "execution_count": 8,
   "metadata": {},
   "outputs": [
    {
     "name": "stdout",
     "output_type": "stream",
     "text": [
      "(17960, 5)\n"
     ]
    },
    {
     "data": {
      "text/html": [
       "<div>\n",
       "<style scoped>\n",
       "    .dataframe tbody tr th:only-of-type {\n",
       "        vertical-align: middle;\n",
       "    }\n",
       "\n",
       "    .dataframe tbody tr th {\n",
       "        vertical-align: top;\n",
       "    }\n",
       "\n",
       "    .dataframe thead th {\n",
       "        text-align: right;\n",
       "    }\n",
       "</style>\n",
       "<table border=\"1\" class=\"dataframe\">\n",
       "  <thead>\n",
       "    <tr style=\"text-align: right;\">\n",
       "      <th></th>\n",
       "      <th>comment_id</th>\n",
       "      <th>comment_parent_id</th>\n",
       "      <th>comment_body</th>\n",
       "      <th>comment_link_id</th>\n",
       "      <th>keyword</th>\n",
       "    </tr>\n",
       "  </thead>\n",
       "  <tbody>\n",
       "    <tr>\n",
       "      <th>0</th>\n",
       "      <td>fp6qtho</td>\n",
       "      <td>t3_gbm76k</td>\n",
       "      <td>This is amazing! Thank you for putting it together!\\n\\nHonestly I’ve tried so many brands: GF Collective, Lululemon, Aerie, Nike, Athleta etc and the ones I always come back to are Old Navy. They are so comfortable and wash well and very affordable. \\n\\nThe Old Navy compression leggings retain their compression even with multiple washes. I also like the yoga leggings which are less compressive but still have a bit of compression. Those are a little softer than the compressive ones but I love both. I tried a bunch of fancier brands and ended up just going back to old navy.</td>\n",
       "      <td>t3_gbm76k</td>\n",
       "      <td>Girlfriend Collective</td>\n",
       "    </tr>\n",
       "  </tbody>\n",
       "</table>\n",
       "</div>"
      ],
      "text/plain": [
       "  comment_id comment_parent_id  \\\n",
       "0  fp6qtho    t3_gbm76k          \n",
       "\n",
       "                                                                                                                                                                                                                                                                                                                                                                                                                                                                                                                                                                                         comment_body  \\\n",
       "0  This is amazing! Thank you for putting it together!\\n\\nHonestly I’ve tried so many brands: GF Collective, Lululemon, Aerie, Nike, Athleta etc and the ones I always come back to are Old Navy. They are so comfortable and wash well and very affordable. \\n\\nThe Old Navy compression leggings retain their compression even with multiple washes. I also like the yoga leggings which are less compressive but still have a bit of compression. Those are a little softer than the compressive ones but I love both. I tried a bunch of fancier brands and ended up just going back to old navy.   \n",
       "\n",
       "  comment_link_id                keyword  \n",
       "0  t3_gbm76k       Girlfriend Collective  "
      ]
     },
     "execution_count": 8,
     "metadata": {},
     "output_type": "execute_result"
    }
   ],
   "source": [
    "print(comments_df.shape)\n",
    "comments_df.head(n = 1)"
   ]
  },
  {
   "cell_type": "code",
   "execution_count": 9,
   "metadata": {},
   "outputs": [
    {
     "data": {
      "text/plain": [
       "Nike                     6626\n",
       "Lululemon                4014\n",
       "Adidas                   3406\n",
       "Athleta                  2906\n",
       "Alo Yoga                 519 \n",
       "Girlfriend Collective    489 \n",
       "Name: keyword, dtype: int64"
      ]
     },
     "execution_count": 9,
     "metadata": {},
     "output_type": "execute_result"
    }
   ],
   "source": [
    "comments_df['keyword'].value_counts()"
   ]
  },
  {
   "cell_type": "markdown",
   "metadata": {},
   "source": [
    "# Problems solved with this script:\n",
    "- Tokenization\n",
    "- lowercasing words\n",
    "- stop-word removal\n",
    "- Stemming\n",
    "- Lemmatization"
   ]
  },
  {
   "cell_type": "markdown",
   "metadata": {},
   "source": [
    "## Lowercasing"
   ]
  },
  {
   "cell_type": "markdown",
   "metadata": {},
   "source": [
    "A very simple that facilitates text analysis is lowercasing all string characters in a comment or tecxt body. Excluding this step would cause wird frequencies and other text analyses to interpret words like \"USA\", \"UsA\", and \"usa\" as separate"
   ]
  },
  {
   "cell_type": "code",
   "execution_count": 30,
   "metadata": {},
   "outputs": [],
   "source": [
    "comments_df['comment_body'] = comments_df['comment_body'].str.lower()"
   ]
  },
  {
   "cell_type": "code",
   "execution_count": 47,
   "metadata": {},
   "outputs": [
    {
     "data": {
      "text/html": [
       "<div>\n",
       "<style scoped>\n",
       "    .dataframe tbody tr th:only-of-type {\n",
       "        vertical-align: middle;\n",
       "    }\n",
       "\n",
       "    .dataframe tbody tr th {\n",
       "        vertical-align: top;\n",
       "    }\n",
       "\n",
       "    .dataframe thead th {\n",
       "        text-align: right;\n",
       "    }\n",
       "</style>\n",
       "<table border=\"1\" class=\"dataframe\">\n",
       "  <thead>\n",
       "    <tr style=\"text-align: right;\">\n",
       "      <th></th>\n",
       "      <th>comment_id</th>\n",
       "      <th>comment_parent_id</th>\n",
       "      <th>comment_body</th>\n",
       "      <th>comment_link_id</th>\n",
       "      <th>keyword</th>\n",
       "      <th>test</th>\n",
       "      <th>test2</th>\n",
       "    </tr>\n",
       "  </thead>\n",
       "  <tbody>\n",
       "    <tr>\n",
       "      <th>0</th>\n",
       "      <td>fp6qtho</td>\n",
       "      <td>t3_gbm76k</td>\n",
       "      <td>this is amazing! thank you for putting it together!\\n\\nhonestly i’ve tried so many brands: gf collective, lululemon, aerie, nike, athleta etc and the ones i always come back to are old navy. they are so comfortable and wash well and very affordable. \\n\\nthe old navy compression leggings retain their compression even with multiple washes. i also like the yoga leggings which are less compressive but still have a bit of compression. those are a little softer than the compressive ones but i love both. i tried a bunch of fancier brands and ended up just going back to old navy.</td>\n",
       "      <td>t3_gbm76k</td>\n",
       "      <td>Girlfriend Collective</td>\n",
       "      <td>this is amazing! thank you for putting it together!\\n\\nhonestly i’ve tried so many brands: keyword, keyword, keyword, keyword, keyword etc and the ones i always come back to are old navy. they are so comfortable and wash well and very affordable. \\n\\nthe old navy compression leggings retain their compression even with multiple washes. i also like the yoga leggings which are less compressive but still have a bit of compression. those are a little softer than the compressive ones but i love both. i tried a bunch of fancier brands and ended up just going back to old navy.</td>\n",
       "      <td>[this, is, amazing, thank, you, for, putting, it, together, honestly, i, ve, tried, so, many, brands, keyword, keyword, keyword, keyword, keyword, etc, and, the, ones, i, always, come, back, to, are, old, navy, they, are, so, comfortable, and, wash, well, and, very, affordable, the, old, navy, compression, leggings, retain, their, compression, even, with, multiple, washes, i, also, like, the, yoga, leggings, which, are, less, compressive, but, still, have, a, bit, of, compression, those, are, a, little, softer, than, the, compressive, ones, but, i, love, both, i, tried, a, bunch, of, fancier, brands, and, ended, up, just, going, back, to, old, ...]</td>\n",
       "    </tr>\n",
       "    <tr>\n",
       "      <th>1</th>\n",
       "      <td>fp6pu3o</td>\n",
       "      <td>t3_gbm76k</td>\n",
       "      <td>thanks for taking all these pictures, it’s super helpful! i agree that nike quality has been subpar compared to what i remember in the past. i’m also in your general size range (5’9, 170ish) and i really like [aybl leggings](https://www.beaybl.com/collections/leggings) for a more “pillowy” feeling fabric, medium compression and the high waist actually stays up. good to know on the ov ones, i’ve been eyeing them but i have the same problem with most leggings rolling/sliding down from my waist.</td>\n",
       "      <td>t3_gbm76k</td>\n",
       "      <td>Girlfriend Collective</td>\n",
       "      <td>thanks for taking all these pictures, it’s super helpful! i agree that keyword quality has been subpar compared to what i remember in the past. i’m also in your general size range (5’9, 170ish) and i really like [aybl leggings](https://www.beaybl.com/collections/leggings) for a more “pillowy” feeling fabric, medium compression and the high waist actually stays up. good to know on the ov ones, i’ve been eyeing them but i have the same problem with most leggings rolling/sliding down from my waist.</td>\n",
       "      <td>[thanks, for, taking, all, these, pictures, it, s, super, helpful, i, agree, that, keyword, quality, has, been, subpar, compared, to, what, i, remember, in, the, past, i, m, also, in, your, general, size, range, 5, 9, 170ish, and, i, really, like, aybl, leggings, https, www, beaybl, com, collections, leggings, for, a, more, pillowy, feeling, fabric, medium, compression, and, the, high, waist, actually, stays, up, good, to, know, on, the, ov, ones, i, ve, been, eyeing, them, but, i, have, the, same, problem, with, most, leggings, rolling, sliding, down, from, my, waist]</td>\n",
       "    </tr>\n",
       "    <tr>\n",
       "      <th>2</th>\n",
       "      <td>fp6r2am</td>\n",
       "      <td>t3_gbm76k</td>\n",
       "      <td>interesting, thanks for sharing! if anyone has a more updated review of girlfriend collective leggings/sports bras, please share! cause i'm interested in them based on the advertising alone lol</td>\n",
       "      <td>t3_gbm76k</td>\n",
       "      <td>Girlfriend Collective</td>\n",
       "      <td>interesting, thanks for sharing! if anyone has a more updated review of keyword leggings/sports bras, please share! cause i'm interested in them based on the advertising alone lol</td>\n",
       "      <td>[interesting, thanks, for, sharing, if, anyone, has, a, more, updated, review, of, keyword, leggings, sports, bras, please, share, cause, i, m, interested, in, them, based, on, the, advertising, alone, lol]</td>\n",
       "    </tr>\n",
       "    <tr>\n",
       "      <th>3</th>\n",
       "      <td>fp6svaw</td>\n",
       "      <td>t3_gbm76k</td>\n",
       "      <td>this is super interesting! i used to be a die-hard athleta fan (high rise chatarunga) but recently, i've been leaning towards my lululemons. aligns are amazing and probably the most comfortable leggings i've ever tried but in my experience, they pill super easily. wunder unders hold up much better for everyday use. \\n\\nedit: also wanted to say that when i was being cheap, i got a few pairs of 90 degree by reflex leggings which are surprisingly decent for being ~$20. they have the compression i like from lulu but can be see through if you have some junk in the trunk or are actually working out and can also cause camel toe. i was also very surprised by the quality of my gym shark leggings, i love how their long length is actually super long (i’m 5’8) and i feel like they hit the mark 100% in terms of trendy gym wear.</td>\n",
       "      <td>t3_gbm76k</td>\n",
       "      <td>Girlfriend Collective</td>\n",
       "      <td>this is super interesting! i used to be a die-hard keyword fan (high rise chatarunga) but recently, i've been leaning towards my keywords. aligns are amazing and probably the most comfortable leggings i've ever tried but in my experience, they pill super easily. wunder unders hold up much better for everyday use. \\n\\nedit: also wanted to say that when i was being cheap, i got a few pairs of 90 degree by reflex leggings which are surprisingly decent for being ~$20. they have the compression i like from lulu but can be see through if you have some junk in the trunk or are actually working out and can also cause camel toe. i was also very surprised by the quality of my gym shark leggings, i love how their long length is actually super long (i’m 5’8) and i feel like they hit the mark 100% in terms of trendy gym wear.</td>\n",
       "      <td>[this, is, super, interesting, i, used, to, be, a, die, hard, keyword, fan, high, rise, chatarunga, but, recently, i, ve, been, leaning, towards, my, keywords, aligns, are, amazing, and, probably, the, most, comfortable, leggings, i, ve, ever, tried, but, in, my, experience, they, pill, super, easily, wunder, unders, hold, up, much, better, for, everyday, use, edit, also, wanted, to, say, that, when, i, was, being, cheap, i, got, a, few, pairs, of, 90, degree, by, reflex, leggings, which, are, surprisingly, decent, for, being, 20, they, have, the, compression, i, like, from, lulu, but, can, be, see, through, if, you, have, ...]</td>\n",
       "    </tr>\n",
       "    <tr>\n",
       "      <th>4</th>\n",
       "      <td>fp6tz4u</td>\n",
       "      <td>t3_gbm76k</td>\n",
       "      <td>i've slowly reached the conclusion that lululemon align 25\" are my go to forever and i should stop wasting time and money on others. i'm 5'9\", in the ballpark of 175, and a powerlifter, and frankly i can't find any other leggings that accommodate huge legs and ass and tighter waist without falling down constantly lol. the wunder under have a seam that lands basically in the middle of my butt??\\n\\ni also don't love a ton of compression. fleo bounce leggings are okay but ride down somewhat. any of their other fabrics have too much \"squeeze\" for me. same for athleta, lulu fast and frees, and nike.\\n\\nalso thank you for investing the time to do all angles!! that takes work.</td>\n",
       "      <td>t3_gbm76k</td>\n",
       "      <td>Girlfriend Collective</td>\n",
       "      <td>i've slowly reached the conclusion that keyword align 25\" are my go to forever and i should stop wasting time and money on others. i'm 5'9\", in the ballpark of 175, and a powerlifter, and frankly i can't find any other leggings that accommodate huge legs and ass and tighter waist without falling down constantly lol. the wunder under have a seam that lands basically in the middle of my butt??\\n\\ni also don't love a ton of compression. fleo bounce leggings are okay but ride down somewhat. any of their other fabrics have too much \"squeeze\" for me. same for keyword, lulu fast and frees, and keyword.\\n\\nalso thank you for investing the time to do all angles!! that takes work.</td>\n",
       "      <td>[i, ve, slowly, reached, the, conclusion, that, keyword, align, 25, are, my, go, to, forever, and, i, should, stop, wasting, time, and, money, on, others, i, m, 5, 9, in, the, ballpark, of, 175, and, a, powerlifter, and, frankly, i, can, t, find, any, other, leggings, that, accommodate, huge, legs, and, ass, and, tighter, waist, without, falling, down, constantly, lol, the, wunder, under, have, a, seam, that, lands, basically, in, the, middle, of, my, butt, i, also, don, t, love, a, ton, of, compression, fleo, bounce, leggings, are, okay, but, ride, down, somewhat, any, of, their, other, fabrics, have, too, ...]</td>\n",
       "    </tr>\n",
       "  </tbody>\n",
       "</table>\n",
       "</div>"
      ],
      "text/plain": [
       "  comment_id comment_parent_id  \\\n",
       "0  fp6qtho    t3_gbm76k          \n",
       "1  fp6pu3o    t3_gbm76k          \n",
       "2  fp6r2am    t3_gbm76k          \n",
       "3  fp6svaw    t3_gbm76k          \n",
       "4  fp6tz4u    t3_gbm76k          \n",
       "\n",
       "                                                                                                                                                                                                                                                                                                                                                                                                                                                                                                                                                                                                                                                                                                                                                                                                                                                 comment_body  \\\n",
       "0  this is amazing! thank you for putting it together!\\n\\nhonestly i’ve tried so many brands: gf collective, lululemon, aerie, nike, athleta etc and the ones i always come back to are old navy. they are so comfortable and wash well and very affordable. \\n\\nthe old navy compression leggings retain their compression even with multiple washes. i also like the yoga leggings which are less compressive but still have a bit of compression. those are a little softer than the compressive ones but i love both. i tried a bunch of fancier brands and ended up just going back to old navy.                                                                                                                                                                                                                                                           \n",
       "1  thanks for taking all these pictures, it’s super helpful! i agree that nike quality has been subpar compared to what i remember in the past. i’m also in your general size range (5’9, 170ish) and i really like [aybl leggings](https://www.beaybl.com/collections/leggings) for a more “pillowy” feeling fabric, medium compression and the high waist actually stays up. good to know on the ov ones, i’ve been eyeing them but i have the same problem with most leggings rolling/sliding down from my waist.                                                                                                                                                                                                                                                                                                                                            \n",
       "2  interesting, thanks for sharing! if anyone has a more updated review of girlfriend collective leggings/sports bras, please share! cause i'm interested in them based on the advertising alone lol                                                                                                                                                                                                                                                                                                                                                                                                                                                                                                                                                                                                                                                            \n",
       "3  this is super interesting! i used to be a die-hard athleta fan (high rise chatarunga) but recently, i've been leaning towards my lululemons. aligns are amazing and probably the most comfortable leggings i've ever tried but in my experience, they pill super easily. wunder unders hold up much better for everyday use. \\n\\nedit: also wanted to say that when i was being cheap, i got a few pairs of 90 degree by reflex leggings which are surprisingly decent for being ~$20. they have the compression i like from lulu but can be see through if you have some junk in the trunk or are actually working out and can also cause camel toe. i was also very surprised by the quality of my gym shark leggings, i love how their long length is actually super long (i’m 5’8) and i feel like they hit the mark 100% in terms of trendy gym wear.   \n",
       "4  i've slowly reached the conclusion that lululemon align 25\" are my go to forever and i should stop wasting time and money on others. i'm 5'9\", in the ballpark of 175, and a powerlifter, and frankly i can't find any other leggings that accommodate huge legs and ass and tighter waist without falling down constantly lol. the wunder under have a seam that lands basically in the middle of my butt??\\n\\ni also don't love a ton of compression. fleo bounce leggings are okay but ride down somewhat. any of their other fabrics have too much \"squeeze\" for me. same for athleta, lulu fast and frees, and nike.\\n\\nalso thank you for investing the time to do all angles!! that takes work.                                                                                                                                                       \n",
       "\n",
       "  comment_link_id                keyword  \\\n",
       "0  t3_gbm76k       Girlfriend Collective   \n",
       "1  t3_gbm76k       Girlfriend Collective   \n",
       "2  t3_gbm76k       Girlfriend Collective   \n",
       "3  t3_gbm76k       Girlfriend Collective   \n",
       "4  t3_gbm76k       Girlfriend Collective   \n",
       "\n",
       "                                                                                                                                                                                                                                                                                                                                                                                                                                                                                                                                                                                                                                                                                                                                                                                                                                                       test  \\\n",
       "0  this is amazing! thank you for putting it together!\\n\\nhonestly i’ve tried so many brands: keyword, keyword, keyword, keyword, keyword etc and the ones i always come back to are old navy. they are so comfortable and wash well and very affordable. \\n\\nthe old navy compression leggings retain their compression even with multiple washes. i also like the yoga leggings which are less compressive but still have a bit of compression. those are a little softer than the compressive ones but i love both. i tried a bunch of fancier brands and ended up just going back to old navy.                                                                                                                                                                                                                                                            \n",
       "1  thanks for taking all these pictures, it’s super helpful! i agree that keyword quality has been subpar compared to what i remember in the past. i’m also in your general size range (5’9, 170ish) and i really like [aybl leggings](https://www.beaybl.com/collections/leggings) for a more “pillowy” feeling fabric, medium compression and the high waist actually stays up. good to know on the ov ones, i’ve been eyeing them but i have the same problem with most leggings rolling/sliding down from my waist.                                                                                                                                                                                                                                                                                                                                       \n",
       "2  interesting, thanks for sharing! if anyone has a more updated review of keyword leggings/sports bras, please share! cause i'm interested in them based on the advertising alone lol                                                                                                                                                                                                                                                                                                                                                                                                                                                                                                                                                                                                                                                                        \n",
       "3  this is super interesting! i used to be a die-hard keyword fan (high rise chatarunga) but recently, i've been leaning towards my keywords. aligns are amazing and probably the most comfortable leggings i've ever tried but in my experience, they pill super easily. wunder unders hold up much better for everyday use. \\n\\nedit: also wanted to say that when i was being cheap, i got a few pairs of 90 degree by reflex leggings which are surprisingly decent for being ~$20. they have the compression i like from lulu but can be see through if you have some junk in the trunk or are actually working out and can also cause camel toe. i was also very surprised by the quality of my gym shark leggings, i love how their long length is actually super long (i’m 5’8) and i feel like they hit the mark 100% in terms of trendy gym wear.   \n",
       "4  i've slowly reached the conclusion that keyword align 25\" are my go to forever and i should stop wasting time and money on others. i'm 5'9\", in the ballpark of 175, and a powerlifter, and frankly i can't find any other leggings that accommodate huge legs and ass and tighter waist without falling down constantly lol. the wunder under have a seam that lands basically in the middle of my butt??\\n\\ni also don't love a ton of compression. fleo bounce leggings are okay but ride down somewhat. any of their other fabrics have too much \"squeeze\" for me. same for keyword, lulu fast and frees, and keyword.\\n\\nalso thank you for investing the time to do all angles!! that takes work.                                                                                                                                                    \n",
       "\n",
       "                                                                                                                                                                                                                                                                                                                                                                                                                                                                                                                                                                                                                                                                              test2  \n",
       "0  [this, is, amazing, thank, you, for, putting, it, together, honestly, i, ve, tried, so, many, brands, keyword, keyword, keyword, keyword, keyword, etc, and, the, ones, i, always, come, back, to, are, old, navy, they, are, so, comfortable, and, wash, well, and, very, affordable, the, old, navy, compression, leggings, retain, their, compression, even, with, multiple, washes, i, also, like, the, yoga, leggings, which, are, less, compressive, but, still, have, a, bit, of, compression, those, are, a, little, softer, than, the, compressive, ones, but, i, love, both, i, tried, a, bunch, of, fancier, brands, and, ended, up, just, going, back, to, old, ...]  \n",
       "1  [thanks, for, taking, all, these, pictures, it, s, super, helpful, i, agree, that, keyword, quality, has, been, subpar, compared, to, what, i, remember, in, the, past, i, m, also, in, your, general, size, range, 5, 9, 170ish, and, i, really, like, aybl, leggings, https, www, beaybl, com, collections, leggings, for, a, more, pillowy, feeling, fabric, medium, compression, and, the, high, waist, actually, stays, up, good, to, know, on, the, ov, ones, i, ve, been, eyeing, them, but, i, have, the, same, problem, with, most, leggings, rolling, sliding, down, from, my, waist]                                                                                   \n",
       "2  [interesting, thanks, for, sharing, if, anyone, has, a, more, updated, review, of, keyword, leggings, sports, bras, please, share, cause, i, m, interested, in, them, based, on, the, advertising, alone, lol]                                                                                                                                                                                                                                                                                                                                                                                                                                                                    \n",
       "3  [this, is, super, interesting, i, used, to, be, a, die, hard, keyword, fan, high, rise, chatarunga, but, recently, i, ve, been, leaning, towards, my, keywords, aligns, are, amazing, and, probably, the, most, comfortable, leggings, i, ve, ever, tried, but, in, my, experience, they, pill, super, easily, wunder, unders, hold, up, much, better, for, everyday, use, edit, also, wanted, to, say, that, when, i, was, being, cheap, i, got, a, few, pairs, of, 90, degree, by, reflex, leggings, which, are, surprisingly, decent, for, being, 20, they, have, the, compression, i, like, from, lulu, but, can, be, see, through, if, you, have, ...]                       \n",
       "4  [i, ve, slowly, reached, the, conclusion, that, keyword, align, 25, are, my, go, to, forever, and, i, should, stop, wasting, time, and, money, on, others, i, m, 5, 9, in, the, ballpark, of, 175, and, a, powerlifter, and, frankly, i, can, t, find, any, other, leggings, that, accommodate, huge, legs, and, ass, and, tighter, waist, without, falling, down, constantly, lol, the, wunder, under, have, a, seam, that, lands, basically, in, the, middle, of, my, butt, i, also, don, t, love, a, ton, of, compression, fleo, bounce, leggings, are, okay, but, ride, down, somewhat, any, of, their, other, fabrics, have, too, ...]                                       "
      ]
     },
     "execution_count": 47,
     "metadata": {},
     "output_type": "execute_result"
    }
   ],
   "source": [
    "comments_df.head()"
   ]
  },
  {
   "cell_type": "markdown",
   "metadata": {},
   "source": [
    "## Mapping keywords"
   ]
  },
  {
   "cell_type": "code",
   "execution_count": 20,
   "metadata": {},
   "outputs": [
    {
     "data": {
      "text/plain": [
       "array(['Girlfriend Collective', 'Lululemon', 'Adidas', 'Nike', 'Alo Yoga',\n",
       "       'Athleta'], dtype=object)"
      ]
     },
     "execution_count": 20,
     "metadata": {},
     "output_type": "execute_result"
    }
   ],
   "source": [
    "comments_df['keyword'].unique()"
   ]
  },
  {
   "cell_type": "code",
   "execution_count": null,
   "metadata": {},
   "outputs": [],
   "source": [
    "# maybe we should only remove the keyword for that text and not all keywords at once..."
   ]
  },
  {
   "cell_type": "code",
   "execution_count": 28,
   "metadata": {},
   "outputs": [],
   "source": [
    "keywords = ['girlfriend collective', 'aerie', 'lululemon', 'adidas', 'nike', 'alo yoga', 'athleta', 'gf collective']\n"
   ]
  },
  {
   "cell_type": "code",
   "execution_count": 29,
   "metadata": {},
   "outputs": [],
   "source": [
    "comments_df['test'] = comments_df['comment_body'].str.replace('|'.join(keywords), 'keyword')"
   ]
  },
  {
   "cell_type": "markdown",
   "metadata": {},
   "source": [
    "## Removing punctuation and noise"
   ]
  },
  {
   "cell_type": "code",
   "execution_count": null,
   "metadata": {},
   "outputs": [],
   "source": [
    "# fix contractions so they are not removed with punctuation removal\n",
    "import contractions\n",
    "\n",
    "contractions.fix(sentence_here)"
   ]
  },
  {
   "cell_type": "code",
   "execution_count": 48,
   "metadata": {},
   "outputs": [],
   "source": [
    "# remove unnecessary punctuation\n",
    "tokenizer = nltk.RegexpTokenizer(r\"\\w+\")\n",
    "comments_df['test2'] = comments_df['test'].apply(tokenizer.tokenize)"
   ]
  },
  {
   "cell_type": "code",
   "execution_count": null,
   "metadata": {},
   "outputs": [],
   "source": []
  },
  {
   "cell_type": "code",
   "execution_count": 49,
   "metadata": {},
   "outputs": [
    {
     "name": "stdout",
     "output_type": "stream",
     "text": [
      "['this', 'is', 'amazing', 'thank', 'you', 'for', 'putting', 'it', 'together', 'honestly', 'i', 've', 'tried', 'so', 'many', 'brands', 'keyword', 'keyword', 'keyword', 'keyword', 'keyword', 'etc', 'and', 'the', 'ones', 'i', 'always', 'come', 'back', 'to', 'are', 'old', 'navy', 'they', 'are', 'so', 'comfortable', 'and', 'wash', 'well', 'and', 'very', 'affordable', 'the', 'old', 'navy', 'compression', 'leggings', 'retain', 'their', 'compression', 'even', 'with', 'multiple', 'washes', 'i', 'also', 'like', 'the', 'yoga', 'leggings', 'which', 'are', 'less', 'compressive', 'but', 'still', 'have', 'a', 'bit', 'of', 'compression', 'those', 'are', 'a', 'little', 'softer', 'than', 'the', 'compressive', 'ones', 'but', 'i', 'love', 'both', 'i', 'tried', 'a', 'bunch', 'of', 'fancier', 'brands', 'and', 'ended', 'up', 'just', 'going', 'back', 'to', 'old', 'navy']\n"
     ]
    }
   ],
   "source": [
    "print(comments_df['test2'].iloc[0])"
   ]
  },
  {
   "cell_type": "code",
   "execution_count": 36,
   "metadata": {},
   "outputs": [
    {
     "ename": "LookupError",
     "evalue": "\n**********************************************************************\n  Resource \u001b[93maveraged_perceptron_tagger\u001b[0m not found.\n  Please use the NLTK Downloader to obtain the resource:\n\n  \u001b[31m>>> import nltk\n  >>> nltk.download('averaged_perceptron_tagger')\n  \u001b[0m\n  For more information see: https://www.nltk.org/data.html\n\n  Attempted to load \u001b[93mtaggers/averaged_perceptron_tagger/averaged_perceptron_tagger.pickle\u001b[0m\n\n  Searched in:\n    - '/Users/karinalopez/nltk_data'\n    - '/Users/karinalopez/opt/anaconda3/nltk_data'\n    - '/Users/karinalopez/opt/anaconda3/share/nltk_data'\n    - '/Users/karinalopez/opt/anaconda3/lib/nltk_data'\n    - '/usr/share/nltk_data'\n    - '/usr/local/share/nltk_data'\n    - '/usr/lib/nltk_data'\n    - '/usr/local/lib/nltk_data'\n**********************************************************************\n",
     "output_type": "error",
     "traceback": [
      "\u001b[0;31m---------------------------------------------------------------------------\u001b[0m",
      "\u001b[0;31mLookupError\u001b[0m                               Traceback (most recent call last)",
      "\u001b[0;32m<ipython-input-36-dc0d688d06a2>\u001b[0m in \u001b[0;36m<module>\u001b[0;34m\u001b[0m\n\u001b[0;32m----> 1\u001b[0;31m \u001b[0mremove_noise\u001b[0m\u001b[0;34m(\u001b[0m\u001b[0mcomments_df\u001b[0m\u001b[0;34m[\u001b[0m\u001b[0;34m'test'\u001b[0m\u001b[0;34m]\u001b[0m\u001b[0;34m.\u001b[0m\u001b[0miloc\u001b[0m\u001b[0;34m[\u001b[0m\u001b[0;36m0\u001b[0m\u001b[0;34m]\u001b[0m\u001b[0;34m)\u001b[0m\u001b[0;34m\u001b[0m\u001b[0;34m\u001b[0m\u001b[0m\n\u001b[0m",
      "\u001b[0;32m<ipython-input-2-7fcc36f2b7c5>\u001b[0m in \u001b[0;36mremove_noise\u001b[0;34m(tweet_tokens, stop_words)\u001b[0m\n\u001b[1;32m      3\u001b[0m     \u001b[0mcleaned_tokens\u001b[0m \u001b[0;34m=\u001b[0m \u001b[0;34m[\u001b[0m\u001b[0;34m]\u001b[0m\u001b[0;34m\u001b[0m\u001b[0;34m\u001b[0m\u001b[0m\n\u001b[1;32m      4\u001b[0m \u001b[0;34m\u001b[0m\u001b[0m\n\u001b[0;32m----> 5\u001b[0;31m     \u001b[0;32mfor\u001b[0m \u001b[0mtoken\u001b[0m\u001b[0;34m,\u001b[0m \u001b[0mtag\u001b[0m \u001b[0;32min\u001b[0m \u001b[0mpos_tag\u001b[0m\u001b[0;34m(\u001b[0m\u001b[0mtweet_tokens\u001b[0m\u001b[0;34m)\u001b[0m\u001b[0;34m:\u001b[0m\u001b[0;34m\u001b[0m\u001b[0;34m\u001b[0m\u001b[0m\n\u001b[0m\u001b[1;32m      6\u001b[0m         token = re.sub('http[s]?://(?:[a-zA-Z]|[0-9]|[$-_@.&+#]|[!*\\(\\),]|'\\\n\u001b[1;32m      7\u001b[0m                        '(?:%[0-9a-fA-F][0-9a-fA-F]))+','', token)\n",
      "\u001b[0;32m~/opt/anaconda3/lib/python3.8/site-packages/nltk/tag/__init__.py\u001b[0m in \u001b[0;36mpos_tag\u001b[0;34m(tokens, tagset, lang)\u001b[0m\n\u001b[1;32m    162\u001b[0m     \u001b[0;34m:\u001b[0m\u001b[0mrtype\u001b[0m\u001b[0;34m:\u001b[0m \u001b[0mlist\u001b[0m\u001b[0;34m(\u001b[0m\u001b[0mtuple\u001b[0m\u001b[0;34m(\u001b[0m\u001b[0mstr\u001b[0m\u001b[0;34m,\u001b[0m \u001b[0mstr\u001b[0m\u001b[0;34m)\u001b[0m\u001b[0;34m)\u001b[0m\u001b[0;34m\u001b[0m\u001b[0;34m\u001b[0m\u001b[0m\n\u001b[1;32m    163\u001b[0m     \"\"\"\n\u001b[0;32m--> 164\u001b[0;31m     \u001b[0mtagger\u001b[0m \u001b[0;34m=\u001b[0m \u001b[0m_get_tagger\u001b[0m\u001b[0;34m(\u001b[0m\u001b[0mlang\u001b[0m\u001b[0;34m)\u001b[0m\u001b[0;34m\u001b[0m\u001b[0;34m\u001b[0m\u001b[0m\n\u001b[0m\u001b[1;32m    165\u001b[0m     \u001b[0;32mreturn\u001b[0m \u001b[0m_pos_tag\u001b[0m\u001b[0;34m(\u001b[0m\u001b[0mtokens\u001b[0m\u001b[0;34m,\u001b[0m \u001b[0mtagset\u001b[0m\u001b[0;34m,\u001b[0m \u001b[0mtagger\u001b[0m\u001b[0;34m,\u001b[0m \u001b[0mlang\u001b[0m\u001b[0;34m)\u001b[0m\u001b[0;34m\u001b[0m\u001b[0;34m\u001b[0m\u001b[0m\n\u001b[1;32m    166\u001b[0m \u001b[0;34m\u001b[0m\u001b[0m\n",
      "\u001b[0;32m~/opt/anaconda3/lib/python3.8/site-packages/nltk/tag/__init__.py\u001b[0m in \u001b[0;36m_get_tagger\u001b[0;34m(lang)\u001b[0m\n\u001b[1;32m    104\u001b[0m         \u001b[0mtagger\u001b[0m\u001b[0;34m.\u001b[0m\u001b[0mload\u001b[0m\u001b[0;34m(\u001b[0m\u001b[0map_russian_model_loc\u001b[0m\u001b[0;34m)\u001b[0m\u001b[0;34m\u001b[0m\u001b[0;34m\u001b[0m\u001b[0m\n\u001b[1;32m    105\u001b[0m     \u001b[0;32melse\u001b[0m\u001b[0;34m:\u001b[0m\u001b[0;34m\u001b[0m\u001b[0;34m\u001b[0m\u001b[0m\n\u001b[0;32m--> 106\u001b[0;31m         \u001b[0mtagger\u001b[0m \u001b[0;34m=\u001b[0m \u001b[0mPerceptronTagger\u001b[0m\u001b[0;34m(\u001b[0m\u001b[0;34m)\u001b[0m\u001b[0;34m\u001b[0m\u001b[0;34m\u001b[0m\u001b[0m\n\u001b[0m\u001b[1;32m    107\u001b[0m     \u001b[0;32mreturn\u001b[0m \u001b[0mtagger\u001b[0m\u001b[0;34m\u001b[0m\u001b[0;34m\u001b[0m\u001b[0m\n\u001b[1;32m    108\u001b[0m \u001b[0;34m\u001b[0m\u001b[0m\n",
      "\u001b[0;32m~/opt/anaconda3/lib/python3.8/site-packages/nltk/tag/perceptron.py\u001b[0m in \u001b[0;36m__init__\u001b[0;34m(self, load)\u001b[0m\n\u001b[1;32m    166\u001b[0m         \u001b[0;32mif\u001b[0m \u001b[0mload\u001b[0m\u001b[0;34m:\u001b[0m\u001b[0;34m\u001b[0m\u001b[0;34m\u001b[0m\u001b[0m\n\u001b[1;32m    167\u001b[0m             AP_MODEL_LOC = \"file:\" + str(\n\u001b[0;32m--> 168\u001b[0;31m                 \u001b[0mfind\u001b[0m\u001b[0;34m(\u001b[0m\u001b[0;34m\"taggers/averaged_perceptron_tagger/\"\u001b[0m \u001b[0;34m+\u001b[0m \u001b[0mPICKLE\u001b[0m\u001b[0;34m)\u001b[0m\u001b[0;34m\u001b[0m\u001b[0;34m\u001b[0m\u001b[0m\n\u001b[0m\u001b[1;32m    169\u001b[0m             )\n\u001b[1;32m    170\u001b[0m             \u001b[0mself\u001b[0m\u001b[0;34m.\u001b[0m\u001b[0mload\u001b[0m\u001b[0;34m(\u001b[0m\u001b[0mAP_MODEL_LOC\u001b[0m\u001b[0;34m)\u001b[0m\u001b[0;34m\u001b[0m\u001b[0;34m\u001b[0m\u001b[0m\n",
      "\u001b[0;32m~/opt/anaconda3/lib/python3.8/site-packages/nltk/data.py\u001b[0m in \u001b[0;36mfind\u001b[0;34m(resource_name, paths)\u001b[0m\n\u001b[1;32m    581\u001b[0m     \u001b[0msep\u001b[0m \u001b[0;34m=\u001b[0m \u001b[0;34m\"*\"\u001b[0m \u001b[0;34m*\u001b[0m \u001b[0;36m70\u001b[0m\u001b[0;34m\u001b[0m\u001b[0;34m\u001b[0m\u001b[0m\n\u001b[1;32m    582\u001b[0m     \u001b[0mresource_not_found\u001b[0m \u001b[0;34m=\u001b[0m \u001b[0;34m\"\\n%s\\n%s\\n%s\\n\"\u001b[0m \u001b[0;34m%\u001b[0m \u001b[0;34m(\u001b[0m\u001b[0msep\u001b[0m\u001b[0;34m,\u001b[0m \u001b[0mmsg\u001b[0m\u001b[0;34m,\u001b[0m \u001b[0msep\u001b[0m\u001b[0;34m)\u001b[0m\u001b[0;34m\u001b[0m\u001b[0;34m\u001b[0m\u001b[0m\n\u001b[0;32m--> 583\u001b[0;31m     \u001b[0;32mraise\u001b[0m \u001b[0mLookupError\u001b[0m\u001b[0;34m(\u001b[0m\u001b[0mresource_not_found\u001b[0m\u001b[0;34m)\u001b[0m\u001b[0;34m\u001b[0m\u001b[0;34m\u001b[0m\u001b[0m\n\u001b[0m\u001b[1;32m    584\u001b[0m \u001b[0;34m\u001b[0m\u001b[0m\n\u001b[1;32m    585\u001b[0m \u001b[0;34m\u001b[0m\u001b[0m\n",
      "\u001b[0;31mLookupError\u001b[0m: \n**********************************************************************\n  Resource \u001b[93maveraged_perceptron_tagger\u001b[0m not found.\n  Please use the NLTK Downloader to obtain the resource:\n\n  \u001b[31m>>> import nltk\n  >>> nltk.download('averaged_perceptron_tagger')\n  \u001b[0m\n  For more information see: https://www.nltk.org/data.html\n\n  Attempted to load \u001b[93mtaggers/averaged_perceptron_tagger/averaged_perceptron_tagger.pickle\u001b[0m\n\n  Searched in:\n    - '/Users/karinalopez/nltk_data'\n    - '/Users/karinalopez/opt/anaconda3/nltk_data'\n    - '/Users/karinalopez/opt/anaconda3/share/nltk_data'\n    - '/Users/karinalopez/opt/anaconda3/lib/nltk_data'\n    - '/usr/share/nltk_data'\n    - '/usr/local/share/nltk_data'\n    - '/usr/lib/nltk_data'\n    - '/usr/local/lib/nltk_data'\n**********************************************************************\n"
     ]
    }
   ],
   "source": [
    "remove_noise(comments_df['test'].iloc[0])"
   ]
  },
  {
   "cell_type": "markdown",
   "metadata": {},
   "source": [
    "## Tokenization\n",
    "Splitting sentences into words"
   ]
  },
  {
   "cell_type": "code",
   "execution_count": 6,
   "metadata": {},
   "outputs": [
    {
     "name": "stderr",
     "output_type": "stream",
     "text": [
      "[nltk_data] Downloading package punkt to\n",
      "[nltk_data]     /Users/karinalopez/nltk_data...\n",
      "[nltk_data]   Unzipping tokenizers/punkt.zip.\n"
     ]
    },
    {
     "name": "stdout",
     "output_type": "stream",
     "text": [
      "['Books', 'are', 'on', 'the', 'table']\n"
     ]
    }
   ],
   "source": [
    "import nltk\n",
    "from nltk.tokenize import word_tokenize\n",
    "\n",
    "nltk.download('punkt')\n",
    "\n",
    "sentence = \"Books are on the table\"\n",
    "\n",
    "words = word_tokenize(sentence)\n",
    "\n",
    "print(words)\n"
   ]
  },
  {
   "cell_type": "code",
   "execution_count": null,
   "metadata": {},
   "outputs": [],
   "source": [
    "https://www.nltk.org/install.html\n",
    "    "
   ]
  },
  {
   "cell_type": "code",
   "execution_count": null,
   "metadata": {},
   "outputs": [],
   "source": [
    "https://www.digitalocean.com/community/tutorials/how-to-perform-sentiment-analysis-in-python-3-using-the-natural-language-toolkit-nltk"
   ]
  },
  {
   "cell_type": "code",
   "execution_count": null,
   "metadata": {},
   "outputs": [],
   "source": [
    "https://stackoverflow.com/questions/55934510/fastest-way-to-replace-part-of-a-string-in-pandas-series-if-it-contains-a-word-i"
   ]
  },
  {
   "cell_type": "code",
   "execution_count": null,
   "metadata": {},
   "outputs": [],
   "source": []
  },
  {
   "cell_type": "code",
   "execution_count": null,
   "metadata": {},
   "outputs": [],
   "source": []
  },
  {
   "cell_type": "code",
   "execution_count": null,
   "metadata": {},
   "outputs": [],
   "source": []
  },
  {
   "cell_type": "code",
   "execution_count": null,
   "metadata": {},
   "outputs": [],
   "source": []
  },
  {
   "cell_type": "code",
   "execution_count": null,
   "metadata": {},
   "outputs": [],
   "source": []
  }
 ],
 "metadata": {
  "kernelspec": {
   "display_name": "Python 3",
   "language": "python",
   "name": "python3"
  },
  "language_info": {
   "codemirror_mode": {
    "name": "ipython",
    "version": 3
   },
   "file_extension": ".py",
   "mimetype": "text/x-python",
   "name": "python",
   "nbconvert_exporter": "python",
   "pygments_lexer": "ipython3",
   "version": "3.8.5"
  }
 },
 "nbformat": 4,
 "nbformat_minor": 4
}
